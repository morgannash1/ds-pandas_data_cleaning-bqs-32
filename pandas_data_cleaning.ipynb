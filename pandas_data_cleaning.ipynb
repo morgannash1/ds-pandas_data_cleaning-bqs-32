{
 "cells": [
  {
   "cell_type": "markdown",
   "metadata": {
    "toc": true
   },
   "source": [
    "<h1>Table of Contents<span class=\"tocSkip\"></span></h1>\n",
    "<div class=\"toc\"><ul class=\"toc-item\"><li><span><a href=\"#Objectives\" data-toc-modified-id=\"Objectives-1\"><span class=\"toc-item-num\">1&nbsp;&nbsp;</span>Objectives</a></span></li><li><span><a href=\"#More-Pandas\" data-toc-modified-id=\"More-Pandas-2\"><span class=\"toc-item-num\">2&nbsp;&nbsp;</span>More Pandas</a></span><ul class=\"toc-item\"><li><span><a href=\"#Loading-the-Data\" data-toc-modified-id=\"Loading-the-Data-2.1\"><span class=\"toc-item-num\">2.1&nbsp;&nbsp;</span>Loading the Data</a></span></li></ul></li><li><span><a href=\"#Exploratory-Data-Analysis-(EDA)\" data-toc-modified-id=\"Exploratory-Data-Analysis-(EDA)-3\"><span class=\"toc-item-num\">3&nbsp;&nbsp;</span>Exploratory Data Analysis (EDA)</a></span><ul class=\"toc-item\"><li><span><a href=\"#Inspecting-the-Data\" data-toc-modified-id=\"Inspecting-the-Data-3.1\"><span class=\"toc-item-num\">3.1&nbsp;&nbsp;</span>Inspecting the Data</a></span></li><li><span><a href=\"#Question-1:-What-animal-types-are-in-the-dataset?\" data-toc-modified-id=\"Question-1:-What-animal-types-are-in-the-dataset?-3.2\"><span class=\"toc-item-num\">3.2&nbsp;&nbsp;</span>Question 1: What animal types are in the dataset?</a></span></li><li><span><a href=\"#Question-2:-What-&quot;Other&quot;-animals-are-in-the-dataset?\" data-toc-modified-id=\"Question-2:-What-&quot;Other&quot;-animals-are-in-the-dataset?-3.3\"><span class=\"toc-item-num\">3.3&nbsp;&nbsp;</span>Question 2: What \"Other\" animals are in the dataset?</a></span></li><li><span><a href=\"#Question-3:-How-old-are-the-animals-in-our-dataset?\" data-toc-modified-id=\"Question-3:-How-old-are-the-animals-in-our-dataset?-3.4\"><span class=\"toc-item-num\">3.4&nbsp;&nbsp;</span>Question 3: How old are the animals in our dataset?</a></span><ul class=\"toc-item\"><li><span><a href=\"#Series.map()\" data-toc-modified-id=\"Series.map()-3.4.1\"><span class=\"toc-item-num\">3.4.1&nbsp;&nbsp;</span><code>Series.map()</code></a></span></li><li><span><a href=\"#More-Sophisticated-Mapping\" data-toc-modified-id=\"More-Sophisticated-Mapping-3.4.2\"><span class=\"toc-item-num\">3.4.2&nbsp;&nbsp;</span>More Sophisticated Mapping</a></span></li><li><span><a href=\"#Lambda-Functions\" data-toc-modified-id=\"Lambda-Functions-3.4.3\"><span class=\"toc-item-num\">3.4.3&nbsp;&nbsp;</span>Lambda Functions</a></span></li></ul></li></ul></li><li><span><a href=\"#Handling-Missing-Data\" data-toc-modified-id=\"Handling-Missing-Data-4\"><span class=\"toc-item-num\">4&nbsp;&nbsp;</span>Handling Missing Data</a></span><ul class=\"toc-item\"><li><span><a href=\"#Fill-with-a-Relevant-Value\" data-toc-modified-id=\"Fill-with-a-Relevant-Value-4.1\"><span class=\"toc-item-num\">4.1&nbsp;&nbsp;</span>Fill with a Relevant Value</a></span></li><li><span><a href=\"#Fill-with-a-Reasonable-Value\" data-toc-modified-id=\"Fill-with-a-Reasonable-Value-4.2\"><span class=\"toc-item-num\">4.2&nbsp;&nbsp;</span>Fill with a Reasonable Value</a></span></li><li><span><a href=\"#Specify-That-the-Data-Were-Missing\" data-toc-modified-id=\"Specify-That-the-Data-Were-Missing-4.3\"><span class=\"toc-item-num\">4.3&nbsp;&nbsp;</span>Specify That the Data Were Missing</a></span></li><li><span><a href=\"#Drop-Missing-Data\" data-toc-modified-id=\"Drop-Missing-Data-4.4\"><span class=\"toc-item-num\">4.4&nbsp;&nbsp;</span>Drop Missing Data</a></span></li><li><span><a href=\"#Comparing-Before-and-After\" data-toc-modified-id=\"Comparing-Before-and-After-4.5\"><span class=\"toc-item-num\">4.5&nbsp;&nbsp;</span>Comparing Before and After</a></span></li></ul></li><li><span><a href=\"#Level-Up:-.applymap()\" data-toc-modified-id=\"Level-Up:-.applymap()-5\"><span class=\"toc-item-num\">5&nbsp;&nbsp;</span>Level Up: <code>.applymap()</code></a></span></li><li><span><a href=\"#Level-Up:-Faster-NumPy-Methods\" data-toc-modified-id=\"Level-Up:-Faster-NumPy-Methods-6\"><span class=\"toc-item-num\">6&nbsp;&nbsp;</span>Level Up: Faster NumPy Methods</a></span><ul class=\"toc-item\"><li><span><a href=\"#NumPy's-where()-Method\" data-toc-modified-id=\"NumPy's-where()-Method-6.1\"><span class=\"toc-item-num\">6.1&nbsp;&nbsp;</span>NumPy's <code>where()</code> Method</a></span></li><li><span><a href=\"#NumPy's-select()-Method\" data-toc-modified-id=\"NumPy's-select()-Method-6.2\"><span class=\"toc-item-num\">6.2&nbsp;&nbsp;</span>NumPy's <code>select()</code> Method</a></span></li></ul></li></ul></div>"
   ]
  },
  {
   "cell_type": "markdown",
   "metadata": {},
   "source": [
    "![panda](http://res.freestockphotos.biz/thumbs/3/3173-illustration-of-a-giant-panda-eating-bamboo-th.png)"
   ]
  },
  {
   "cell_type": "code",
   "execution_count": 1,
   "metadata": {},
   "outputs": [],
   "source": [
    "import numpy as np\n",
    "import pandas as pd\n",
    "\n",
    "from matplotlib import pyplot as plt\n",
    "%matplotlib inline"
   ]
  },
  {
   "cell_type": "markdown",
   "metadata": {
    "heading_collapsed": true
   },
   "source": [
    "# Objectives"
   ]
  },
  {
   "cell_type": "markdown",
   "metadata": {
    "hidden": true
   },
   "source": [
    "- Use lambda functions and DataFrame methods to transform data\n",
    "- Handle missing data"
   ]
  },
  {
   "cell_type": "markdown",
   "metadata": {
    "heading_collapsed": true
   },
   "source": [
    "# More Pandas"
   ]
  },
  {
   "cell_type": "markdown",
   "metadata": {
    "hidden": true
   },
   "source": [
    "Suppose you were interested in opening an animal shelter. To inform your planning, it would be useful to analyze data from other shelters to understand their operations. In this lecture, we'll analyze animal outcome data from the Austin Animal Center.  "
   ]
  },
  {
   "cell_type": "markdown",
   "metadata": {
    "heading_collapsed": true,
    "hidden": true
   },
   "source": [
    "## Loading the Data"
   ]
  },
  {
   "cell_type": "markdown",
   "metadata": {
    "hidden": true
   },
   "source": [
    "Let's take a moment to examine the [Austin Animal Center data set](https://data.austintexas.gov/Health-and-Community-Services/Austin-Animal-Center-Outcomes/9t4d-g238/data). \n",
    "\n",
    "We can also ingest the data right off the web, as we do below. The code below will load JSON data for the last 1000 animals to leave the center from this [JSON file](https://data.austintexas.gov/resource/9t4d-g238.json). "
   ]
  },
  {
   "cell_type": "code",
   "execution_count": 2,
   "metadata": {
    "hidden": true
   },
   "outputs": [],
   "source": [
    "json_url = 'https://data.austintexas.gov/resource/9t4d-g238.json'\n",
    "animals = pd.read_json(json_url)"
   ]
  },
  {
   "cell_type": "markdown",
   "metadata": {
    "heading_collapsed": true
   },
   "source": [
    "# Exploratory Data Analysis (EDA)"
   ]
  },
  {
   "cell_type": "markdown",
   "metadata": {
    "hidden": true
   },
   "source": [
    "Exploring a new dataset is essential for understanding what it contains. This will generate ideas for processing the data and questions to try to answer in further analysis."
   ]
  },
  {
   "cell_type": "markdown",
   "metadata": {
    "heading_collapsed": true,
    "hidden": true
   },
   "source": [
    "## Inspecting the Data"
   ]
  },
  {
   "cell_type": "markdown",
   "metadata": {
    "hidden": true
   },
   "source": [
    "Let's take a look at a few rows of data."
   ]
  },
  {
   "cell_type": "code",
   "execution_count": 3,
   "metadata": {
    "hidden": true
   },
   "outputs": [
    {
     "data": {
      "text/html": [
       "<div>\n",
       "<style scoped>\n",
       "    .dataframe tbody tr th:only-of-type {\n",
       "        vertical-align: middle;\n",
       "    }\n",
       "\n",
       "    .dataframe tbody tr th {\n",
       "        vertical-align: top;\n",
       "    }\n",
       "\n",
       "    .dataframe thead th {\n",
       "        text-align: right;\n",
       "    }\n",
       "</style>\n",
       "<table border=\"1\" class=\"dataframe\">\n",
       "  <thead>\n",
       "    <tr style=\"text-align: right;\">\n",
       "      <th></th>\n",
       "      <th>animal_id</th>\n",
       "      <th>name</th>\n",
       "      <th>datetime</th>\n",
       "      <th>monthyear</th>\n",
       "      <th>date_of_birth</th>\n",
       "      <th>outcome_type</th>\n",
       "      <th>animal_type</th>\n",
       "      <th>sex_upon_outcome</th>\n",
       "      <th>age_upon_outcome</th>\n",
       "      <th>breed</th>\n",
       "      <th>color</th>\n",
       "      <th>outcome_subtype</th>\n",
       "    </tr>\n",
       "  </thead>\n",
       "  <tbody>\n",
       "    <tr>\n",
       "      <th>0</th>\n",
       "      <td>A882831</td>\n",
       "      <td>*Hamilton</td>\n",
       "      <td>2023-07-01 18:12:00</td>\n",
       "      <td>2023-07-01T18:12:00.000</td>\n",
       "      <td>2023-03-25T00:00:00.000</td>\n",
       "      <td>Adoption</td>\n",
       "      <td>Cat</td>\n",
       "      <td>Neutered Male</td>\n",
       "      <td>3 months</td>\n",
       "      <td>Domestic Shorthair Mix</td>\n",
       "      <td>Black/White</td>\n",
       "      <td>NaN</td>\n",
       "    </tr>\n",
       "    <tr>\n",
       "      <th>1</th>\n",
       "      <td>A794011</td>\n",
       "      <td>Chunk</td>\n",
       "      <td>2019-05-08 18:20:00</td>\n",
       "      <td>2019-05-08T18:20:00.000</td>\n",
       "      <td>2017-05-02T00:00:00.000</td>\n",
       "      <td>Rto-Adopt</td>\n",
       "      <td>Cat</td>\n",
       "      <td>Neutered Male</td>\n",
       "      <td>2 years</td>\n",
       "      <td>Domestic Shorthair Mix</td>\n",
       "      <td>Brown Tabby/White</td>\n",
       "      <td>NaN</td>\n",
       "    </tr>\n",
       "    <tr>\n",
       "      <th>2</th>\n",
       "      <td>A776359</td>\n",
       "      <td>Gizmo</td>\n",
       "      <td>2018-07-18 16:02:00</td>\n",
       "      <td>2018-07-18T16:02:00.000</td>\n",
       "      <td>2017-07-12T00:00:00.000</td>\n",
       "      <td>Adoption</td>\n",
       "      <td>Dog</td>\n",
       "      <td>Neutered Male</td>\n",
       "      <td>1 year</td>\n",
       "      <td>Chihuahua Shorthair Mix</td>\n",
       "      <td>White/Brown</td>\n",
       "      <td>NaN</td>\n",
       "    </tr>\n",
       "    <tr>\n",
       "      <th>3</th>\n",
       "      <td>A821648</td>\n",
       "      <td>NaN</td>\n",
       "      <td>2020-08-16 11:38:00</td>\n",
       "      <td>2020-08-16T11:38:00.000</td>\n",
       "      <td>2019-08-16T00:00:00.000</td>\n",
       "      <td>Euthanasia</td>\n",
       "      <td>Other</td>\n",
       "      <td>Unknown</td>\n",
       "      <td>1 year</td>\n",
       "      <td>Raccoon</td>\n",
       "      <td>Gray</td>\n",
       "      <td>NaN</td>\n",
       "    </tr>\n",
       "    <tr>\n",
       "      <th>4</th>\n",
       "      <td>A720371</td>\n",
       "      <td>Moose</td>\n",
       "      <td>2016-02-13 17:59:00</td>\n",
       "      <td>2016-02-13T17:59:00.000</td>\n",
       "      <td>2015-10-08T00:00:00.000</td>\n",
       "      <td>Adoption</td>\n",
       "      <td>Dog</td>\n",
       "      <td>Neutered Male</td>\n",
       "      <td>4 months</td>\n",
       "      <td>Anatol Shepherd/Labrador Retriever</td>\n",
       "      <td>Buff</td>\n",
       "      <td>NaN</td>\n",
       "    </tr>\n",
       "  </tbody>\n",
       "</table>\n",
       "</div>"
      ],
      "text/plain": [
       "  animal_id       name            datetime                monthyear  \\\n",
       "0   A882831  *Hamilton 2023-07-01 18:12:00  2023-07-01T18:12:00.000   \n",
       "1   A794011      Chunk 2019-05-08 18:20:00  2019-05-08T18:20:00.000   \n",
       "2   A776359      Gizmo 2018-07-18 16:02:00  2018-07-18T16:02:00.000   \n",
       "3   A821648        NaN 2020-08-16 11:38:00  2020-08-16T11:38:00.000   \n",
       "4   A720371      Moose 2016-02-13 17:59:00  2016-02-13T17:59:00.000   \n",
       "\n",
       "             date_of_birth outcome_type animal_type sex_upon_outcome  \\\n",
       "0  2023-03-25T00:00:00.000     Adoption         Cat    Neutered Male   \n",
       "1  2017-05-02T00:00:00.000    Rto-Adopt         Cat    Neutered Male   \n",
       "2  2017-07-12T00:00:00.000     Adoption         Dog    Neutered Male   \n",
       "3  2019-08-16T00:00:00.000   Euthanasia       Other          Unknown   \n",
       "4  2015-10-08T00:00:00.000     Adoption         Dog    Neutered Male   \n",
       "\n",
       "  age_upon_outcome                               breed              color  \\\n",
       "0         3 months              Domestic Shorthair Mix        Black/White   \n",
       "1          2 years              Domestic Shorthair Mix  Brown Tabby/White   \n",
       "2           1 year             Chihuahua Shorthair Mix        White/Brown   \n",
       "3           1 year                             Raccoon               Gray   \n",
       "4         4 months  Anatol Shepherd/Labrador Retriever               Buff   \n",
       "\n",
       "  outcome_subtype  \n",
       "0             NaN  \n",
       "1             NaN  \n",
       "2             NaN  \n",
       "3             NaN  \n",
       "4             NaN  "
      ]
     },
     "execution_count": 3,
     "metadata": {},
     "output_type": "execute_result"
    }
   ],
   "source": [
    "animals.head()"
   ]
  },
  {
   "cell_type": "markdown",
   "metadata": {
    "hidden": true
   },
   "source": [
    "The `info()` and `describe()` provide a useful overview of the data."
   ]
  },
  {
   "cell_type": "code",
   "execution_count": 4,
   "metadata": {
    "hidden": true
   },
   "outputs": [
    {
     "name": "stdout",
     "output_type": "stream",
     "text": [
      "<class 'pandas.core.frame.DataFrame'>\n",
      "RangeIndex: 1000 entries, 0 to 999\n",
      "Data columns (total 12 columns):\n",
      " #   Column            Non-Null Count  Dtype         \n",
      "---  ------            --------------  -----         \n",
      " 0   animal_id         1000 non-null   object        \n",
      " 1   name              739 non-null    object        \n",
      " 2   datetime          1000 non-null   datetime64[ns]\n",
      " 3   monthyear         1000 non-null   object        \n",
      " 4   date_of_birth     1000 non-null   object        \n",
      " 5   outcome_type      1000 non-null   object        \n",
      " 6   animal_type       1000 non-null   object        \n",
      " 7   sex_upon_outcome  1000 non-null   object        \n",
      " 8   age_upon_outcome  1000 non-null   object        \n",
      " 9   breed             1000 non-null   object        \n",
      " 10  color             1000 non-null   object        \n",
      " 11  outcome_subtype   457 non-null    object        \n",
      "dtypes: datetime64[ns](1), object(11)\n",
      "memory usage: 93.9+ KB\n"
     ]
    }
   ],
   "source": [
    "animals.info()"
   ]
  },
  {
   "cell_type": "markdown",
   "metadata": {
    "hidden": true
   },
   "source": [
    "> We can see we have some missing data. Specifically in the `outcome_type`, `outcome_subtype`, and `name` columns."
   ]
  },
  {
   "cell_type": "code",
   "execution_count": 6,
   "metadata": {
    "hidden": true
   },
   "outputs": [
    {
     "data": {
      "text/html": [
       "<div>\n",
       "<style scoped>\n",
       "    .dataframe tbody tr th:only-of-type {\n",
       "        vertical-align: middle;\n",
       "    }\n",
       "\n",
       "    .dataframe tbody tr th {\n",
       "        vertical-align: top;\n",
       "    }\n",
       "\n",
       "    .dataframe thead th {\n",
       "        text-align: right;\n",
       "    }\n",
       "</style>\n",
       "<table border=\"1\" class=\"dataframe\">\n",
       "  <thead>\n",
       "    <tr style=\"text-align: right;\">\n",
       "      <th></th>\n",
       "      <th>datetime</th>\n",
       "    </tr>\n",
       "  </thead>\n",
       "  <tbody>\n",
       "    <tr>\n",
       "      <th>count</th>\n",
       "      <td>1000</td>\n",
       "    </tr>\n",
       "    <tr>\n",
       "      <th>mean</th>\n",
       "      <td>2018-10-09 00:35:29.880000</td>\n",
       "    </tr>\n",
       "    <tr>\n",
       "      <th>min</th>\n",
       "      <td>2013-10-03 16:37:00</td>\n",
       "    </tr>\n",
       "    <tr>\n",
       "      <th>25%</th>\n",
       "      <td>2016-03-01 08:30:15</td>\n",
       "    </tr>\n",
       "    <tr>\n",
       "      <th>50%</th>\n",
       "      <td>2018-08-20 13:53:30</td>\n",
       "    </tr>\n",
       "    <tr>\n",
       "      <th>75%</th>\n",
       "      <td>2021-05-26 18:25:00</td>\n",
       "    </tr>\n",
       "    <tr>\n",
       "      <th>max</th>\n",
       "      <td>2024-09-24 14:32:00</td>\n",
       "    </tr>\n",
       "  </tbody>\n",
       "</table>\n",
       "</div>"
      ],
      "text/plain": [
       "                         datetime\n",
       "count                        1000\n",
       "mean   2018-10-09 00:35:29.880000\n",
       "min           2013-10-03 16:37:00\n",
       "25%           2016-03-01 08:30:15\n",
       "50%           2018-08-20 13:53:30\n",
       "75%           2021-05-26 18:25:00\n",
       "max           2024-09-24 14:32:00"
      ]
     },
     "execution_count": 6,
     "metadata": {},
     "output_type": "execute_result"
    }
   ],
   "source": [
    "animals.describe()"
   ]
  },
  {
   "cell_type": "code",
   "execution_count": 7,
   "metadata": {
    "hidden": true
   },
   "outputs": [
    {
     "data": {
      "text/plain": [
       "color\n",
       "Black/White          93\n",
       "Black                83\n",
       "Brown Tabby          63\n",
       "Brown Tabby/White    39\n",
       "Brown                38\n",
       "                     ..\n",
       "Tan/Brown             1\n",
       "Sable/Tan             1\n",
       "Brown Tiger/Brown     1\n",
       "Brown Tabby/Black     1\n",
       "Black Smoke           1\n",
       "Name: count, Length: 130, dtype: int64"
      ]
     },
     "execution_count": 7,
     "metadata": {},
     "output_type": "execute_result"
    }
   ],
   "source": [
    "# Use value counts to check a categorical feature's distribution\n",
    "\n",
    "animals['color'].value_counts()"
   ]
  },
  {
   "cell_type": "markdown",
   "metadata": {
    "hidden": true
   },
   "source": [
    "Now that we have a sense of the data available to us, we can focus in on some more specific questions to dig into. These questions may or may not be directly relevant to your goal (e.g. helping plan a new shelter), but will always help you gain a better understanding of your data.\n",
    "\n",
    "In your EDA notebooks, **markdown** will be especially helpful in tracking these questions and your methods of answering the questions.  "
   ]
  },
  {
   "cell_type": "markdown",
   "metadata": {
    "heading_collapsed": true,
    "hidden": true
   },
   "source": [
    "## Question 1: What animal types are in the dataset?"
   ]
  },
  {
   "cell_type": "markdown",
   "metadata": {
    "hidden": true
   },
   "source": [
    "We can then begin thinking about what parts of the DataFrame we need to answer the question."
   ]
  },
  {
   "cell_type": "markdown",
   "metadata": {
    "hidden": true
   },
   "source": [
    "* What features do we need?\n",
    " - \"animal_type\"\n",
    "* What type of logic and calculation do we perform?\n",
    " - Let's use `.value_counts()` to count the different animal types\n",
    "* What type of visualization would help us answer the question?\n",
    " - A bar chart would be good for this purpose"
   ]
  },
  {
   "cell_type": "code",
   "execution_count": 10,
   "metadata": {
    "hidden": true
   },
   "outputs": [
    {
     "data": {
      "text/plain": [
       "animal_type\n",
       "Dog      564\n",
       "Cat      382\n",
       "Other     51\n",
       "Bird       3\n",
       "Name: count, dtype: int64"
      ]
     },
     "execution_count": 10,
     "metadata": {},
     "output_type": "execute_result"
    }
   ],
   "source": [
    "animals['animal_type'].value_counts()"
   ]
  },
  {
   "cell_type": "code",
   "execution_count": 13,
   "metadata": {
    "hidden": true
   },
   "outputs": [
    {
     "data": {
      "image/png": "[encoded data removed]",
      "text/plain": [
       "<Figure size 640x480 with 1 Axes>"
      ]
     },
     "metadata": {},
     "output_type": "display_data"
    }
   ],
   "source": [
    "fig, ax = plt.subplots()\n",
    "\n",
    "animal_type_values = animals['animal_type'].value_counts()\n",
    "\n",
    "ax.barh(\n",
    "    y=animal_type_values.index,\n",
    "    width=animal_type_values.values\n",
    ")\n",
    "ax.set_xlabel('count');\n",
    "plt.show()"
   ]
  },
  {
   "cell_type": "code",
   "execution_count": 15,
   "metadata": {
    "hidden": true
   },
   "outputs": [
    {
     "data": {
      "image/png": "[encoded data removed]",
      "text/plain": [
       "<Figure size 640x480 with 1 Axes>"
      ]
     },
     "metadata": {},
     "output_type": "display_data"
    }
   ],
   "source": [
    "animals['animal_type'].hist()\n",
    "plt.show()"
   ]
  },
  {
   "cell_type": "markdown",
   "metadata": {
    "hidden": true
   },
   "source": [
    "Questions lead to other questions. For the above example, the visualization raises the question..."
   ]
  },
  {
   "cell_type": "markdown",
   "metadata": {
    "heading_collapsed": true,
    "hidden": true
   },
   "source": [
    "## Question 2: What \"Other\" animals are in the dataset?"
   ]
  },
  {
   "cell_type": "markdown",
   "metadata": {
    "hidden": true
   },
   "source": [
    "To find out, we need to know whether the type of animal for \"Other\" is in our dataset - and if so, where to find it.   "
   ]
  },
  {
   "cell_type": "markdown",
   "metadata": {
    "hidden": true
   },
   "source": [
    "**Discussion**: Where might we look to find animal types within the Other category?\n",
    "\n",
    "<details>\n",
    "    <summary>\n",
    "        Answer\n",
    "    </summary>\n",
    "        The breed column.\n",
    "</details>"
   ]
  },
  {
   "cell_type": "code",
   "execution_count": null,
   "metadata": {
    "hidden": true
   },
   "outputs": [],
   "source": [
    "# Your exploration here"
   ]
  },
  {
   "cell_type": "markdown",
   "metadata": {
    "hidden": true
   },
   "source": [
    "Let's use that column to answer our question."
   ]
  },
  {
   "cell_type": "code",
   "execution_count": 16,
   "metadata": {
    "hidden": true
   },
   "outputs": [
    {
     "data": {
      "text/plain": [
       "breed\n",
       "Bat Mix           13\n",
       "Bat               13\n",
       "Raccoon            5\n",
       "Raccoon Mix        5\n",
       "Guinea Pig         4\n",
       "Guinea Pig Mix     3\n",
       "Rabbit Sh Mix      2\n",
       "Opossum            1\n",
       "Polish             1\n",
       "Lizard             1\n",
       "Ferret Mix         1\n",
       "Rabbit Sh          1\n",
       "Chinchilla         1\n",
       "Name: count, dtype: int64"
      ]
     },
     "execution_count": 16,
     "metadata": {},
     "output_type": "execute_result"
    }
   ],
   "source": [
    "mask_other_animals = animals['animal_type'] == 'Other'\n",
    "animals[mask_other_animals]['breed'].value_counts()"
   ]
  },
  {
   "cell_type": "markdown",
   "metadata": {
    "heading_collapsed": true,
    "hidden": true
   },
   "source": [
    "## Question 3: How old are the animals in our dataset?"
   ]
  },
  {
   "cell_type": "markdown",
   "metadata": {
    "hidden": true
   },
   "source": [
    "Let's try to answer this with the `age_upon_outcome` variable to learn some new `pandas` tools."
   ]
  },
  {
   "cell_type": "code",
   "execution_count": 17,
   "metadata": {
    "hidden": true
   },
   "outputs": [
    {
     "data": {
      "text/plain": [
       "age_upon_outcome\n",
       "2 years      179\n",
       "1 year       162\n",
       "2 months     132\n",
       "3 months      60\n",
       "3 years       56\n",
       "1 month       51\n",
       "4 months      37\n",
       "4 years       37\n",
       "6 months      26\n",
       "6 years       22\n",
       "7 years       21\n",
       "8 years       18\n",
       "5 years       18\n",
       "5 months      16\n",
       "2 weeks       14\n",
       "8 months      14\n",
       "9 years       13\n",
       "7 months      12\n",
       "9 months      12\n",
       "3 weeks       12\n",
       "10 years      11\n",
       "10 months     10\n",
       "4 weeks       10\n",
       "11 years       8\n",
       "12 years       7\n",
       "1 weeks        7\n",
       "6 days         6\n",
       "1 day          5\n",
       "13 years       5\n",
       "15 years       4\n",
       "1 week         3\n",
       "16 years       2\n",
       "5 days         2\n",
       "2 days         2\n",
       "3 days         2\n",
       "4 days         1\n",
       "14 years       1\n",
       "11 months      1\n",
       "0 years        1\n",
       "Name: count, dtype: int64"
      ]
     },
     "execution_count": 17,
     "metadata": {},
     "output_type": "execute_result"
    }
   ],
   "source": [
    "animals['age_upon_outcome'].value_counts()"
   ]
  },
  {
   "cell_type": "markdown",
   "metadata": {
    "heading_collapsed": true,
    "hidden": true
   },
   "source": [
    "### `Series.map()`"
   ]
  },
  {
   "cell_type": "markdown",
   "metadata": {
    "hidden": true
   },
   "source": [
    "The `.map()` method applies a transformation to every entry in the Series. This transformation  \"maps\" each value from the Series to a new value. A transformation can be defined by a function, Series, or dictionary - usually we'll use functions."
   ]
  },
  {
   "cell_type": "markdown",
   "metadata": {
    "hidden": true
   },
   "source": [
    "The `.apply()` method is similar to the `.map()` method for Series, but can only use functions. It has more powerful uses when working with DataFrames."
   ]
  },
  {
   "cell_type": "code",
   "execution_count": 18,
   "metadata": {
    "hidden": true
   },
   "outputs": [],
   "source": [
    "def one_year(age):\n",
    "    if age == '1 year':\n",
    "        return '1 years'\n",
    "    else:\n",
    "        return age"
   ]
  },
  {
   "cell_type": "code",
   "execution_count": 19,
   "metadata": {
    "hidden": true,
    "scrolled": true
   },
   "outputs": [
    {
     "data": {
      "text/plain": [
       "new_age1\n",
       "2 years      179\n",
       "1 years      162\n",
       "2 months     132\n",
       "3 months      60\n",
       "3 years       56\n",
       "1 month       51\n",
       "4 months      37\n",
       "4 years       37\n",
       "6 months      26\n",
       "6 years       22\n",
       "7 years       21\n",
       "8 years       18\n",
       "5 years       18\n",
       "5 months      16\n",
       "2 weeks       14\n",
       "8 months      14\n",
       "9 years       13\n",
       "7 months      12\n",
       "9 months      12\n",
       "3 weeks       12\n",
       "10 years      11\n",
       "10 months     10\n",
       "4 weeks       10\n",
       "11 years       8\n",
       "12 years       7\n",
       "1 weeks        7\n",
       "6 days         6\n",
       "1 day          5\n",
       "13 years       5\n",
       "15 years       4\n",
       "1 week         3\n",
       "16 years       2\n",
       "5 days         2\n",
       "2 days         2\n",
       "3 days         2\n",
       "4 days         1\n",
       "14 years       1\n",
       "11 months      1\n",
       "0 years        1\n",
       "Name: count, dtype: int64"
      ]
     },
     "execution_count": 19,
     "metadata": {},
     "output_type": "execute_result"
    }
   ],
   "source": [
    "animals['new_age1'] = animals['age_upon_outcome'].map(one_year)\n",
    "animals['new_age1'].value_counts()"
   ]
  },
  {
   "cell_type": "markdown",
   "metadata": {
    "heading_collapsed": true,
    "hidden": true
   },
   "source": [
    "### More Sophisticated Mapping"
   ]
  },
  {
   "cell_type": "markdown",
   "metadata": {
    "hidden": true
   },
   "source": [
    "Let's use `.map()` to turn sex_upon_outcome into a category with three values (called **ternary**): male, female, or unknown. "
   ]
  },
  {
   "cell_type": "markdown",
   "metadata": {
    "hidden": true
   },
   "source": [
    "First, explore the unique values:"
   ]
  },
  {
   "cell_type": "code",
   "execution_count": 20,
   "metadata": {
    "hidden": true
   },
   "outputs": [
    {
     "data": {
      "text/plain": [
       "array(['Neutered Male', 'Unknown', 'Intact Male', 'Spayed Female',\n",
       "       'Intact Female'], dtype=object)"
      ]
     },
     "execution_count": 20,
     "metadata": {},
     "output_type": "execute_result"
    }
   ],
   "source": [
    "animals['sex_upon_outcome'].unique()"
   ]
  },
  {
   "cell_type": "code",
   "execution_count": 21,
   "metadata": {
    "hidden": true
   },
   "outputs": [],
   "source": [
    "def sex_mapper(status):\n",
    "    if status in ['Neutered Male', 'Intact Male']:\n",
    "        return 'Male'\n",
    "    elif status in ['Spayed Female', 'Intact Female']:\n",
    "        return 'Female'\n",
    "    else:\n",
    "        return 'Unknown'"
   ]
  },
  {
   "cell_type": "code",
   "execution_count": 27,
   "metadata": {
    "hidden": true
   },
   "outputs": [
    {
     "data": {
      "text/plain": [
       "0         Male\n",
       "1         Male\n",
       "2         Male\n",
       "3      Unknown\n",
       "4         Male\n",
       "        ...   \n",
       "995     Female\n",
       "996       Male\n",
       "997    Unknown\n",
       "998       Male\n",
       "999       Male\n",
       "Name: new_sex1, Length: 1000, dtype: object"
      ]
     },
     "execution_count": 27,
     "metadata": {},
     "output_type": "execute_result"
    }
   ],
   "source": [
    "animals['new_sex1'] = animals['sex_upon_outcome'].map(sex_mapper)\n",
    "animals['new_sex1']"
   ]
  },
  {
   "cell_type": "markdown",
   "metadata": {
    "heading_collapsed": true,
    "hidden": true
   },
   "source": [
    "### Lambda Functions"
   ]
  },
  {
   "cell_type": "markdown",
   "metadata": {
    "hidden": true
   },
   "source": [
    "Simple functions can be defined just when you need them, when you would call the function. These are called **lambda functions**. These functions are **anonymous** and disappear immediately after use."
   ]
  },
  {
   "cell_type": "markdown",
   "metadata": {
    "hidden": true
   },
   "source": [
    "Let's use a lambda function to get rid of 'Other' in the \"animal_type' column."
   ]
  },
  {
   "cell_type": "code",
   "execution_count": 28,
   "metadata": {
    "hidden": true
   },
   "outputs": [
    {
     "data": {
      "text/html": [
       "<div>\n",
       "<style scoped>\n",
       "    .dataframe tbody tr th:only-of-type {\n",
       "        vertical-align: middle;\n",
       "    }\n",
       "\n",
       "    .dataframe tbody tr th {\n",
       "        vertical-align: top;\n",
       "    }\n",
       "\n",
       "    .dataframe thead th {\n",
       "        text-align: right;\n",
       "    }\n",
       "</style>\n",
       "<table border=\"1\" class=\"dataframe\">\n",
       "  <thead>\n",
       "    <tr style=\"text-align: right;\">\n",
       "      <th></th>\n",
       "      <th>animal_id</th>\n",
       "      <th>name</th>\n",
       "      <th>datetime</th>\n",
       "      <th>monthyear</th>\n",
       "      <th>date_of_birth</th>\n",
       "      <th>outcome_type</th>\n",
       "      <th>animal_type</th>\n",
       "      <th>sex_upon_outcome</th>\n",
       "      <th>age_upon_outcome</th>\n",
       "      <th>breed</th>\n",
       "      <th>color</th>\n",
       "      <th>outcome_subtype</th>\n",
       "      <th>new_age1</th>\n",
       "      <th>new_sex1</th>\n",
       "    </tr>\n",
       "  </thead>\n",
       "  <tbody>\n",
       "    <tr>\n",
       "      <th>3</th>\n",
       "      <td>A821648</td>\n",
       "      <td>NaN</td>\n",
       "      <td>2020-08-16 11:38:00</td>\n",
       "      <td>2020-08-16T11:38:00.000</td>\n",
       "      <td>2019-08-16T00:00:00.000</td>\n",
       "      <td>Euthanasia</td>\n",
       "      <td>Other</td>\n",
       "      <td>Unknown</td>\n",
       "      <td>1 year</td>\n",
       "      <td>Raccoon</td>\n",
       "      <td>Gray</td>\n",
       "      <td>NaN</td>\n",
       "      <td>1 years</td>\n",
       "      <td>Unknown</td>\n",
       "    </tr>\n",
       "    <tr>\n",
       "      <th>24</th>\n",
       "      <td>A910622</td>\n",
       "      <td>NaN</td>\n",
       "      <td>2024-08-01 13:05:00</td>\n",
       "      <td>2024-08-01T13:05:00.000</td>\n",
       "      <td>2022-08-01T00:00:00.000</td>\n",
       "      <td>Euthanasia</td>\n",
       "      <td>Other</td>\n",
       "      <td>Unknown</td>\n",
       "      <td>2 years</td>\n",
       "      <td>Raccoon</td>\n",
       "      <td>Black/Gray</td>\n",
       "      <td>At Vet</td>\n",
       "      <td>2 years</td>\n",
       "      <td>Unknown</td>\n",
       "    </tr>\n",
       "    <tr>\n",
       "      <th>29</th>\n",
       "      <td>A725795</td>\n",
       "      <td>NaN</td>\n",
       "      <td>2016-05-03 12:39:00</td>\n",
       "      <td>2016-05-03T12:39:00.000</td>\n",
       "      <td>2016-04-15T00:00:00.000</td>\n",
       "      <td>Euthanasia</td>\n",
       "      <td>Other</td>\n",
       "      <td>Unknown</td>\n",
       "      <td>2 weeks</td>\n",
       "      <td>Opossum</td>\n",
       "      <td>Gray</td>\n",
       "      <td>Underage</td>\n",
       "      <td>2 weeks</td>\n",
       "      <td>Unknown</td>\n",
       "    </tr>\n",
       "    <tr>\n",
       "      <th>41</th>\n",
       "      <td>A766700</td>\n",
       "      <td>NaN</td>\n",
       "      <td>2018-02-15 08:59:00</td>\n",
       "      <td>2018-02-15T08:59:00.000</td>\n",
       "      <td>2017-02-15T00:00:00.000</td>\n",
       "      <td>Euthanasia</td>\n",
       "      <td>Other</td>\n",
       "      <td>Unknown</td>\n",
       "      <td>1 year</td>\n",
       "      <td>Bat Mix</td>\n",
       "      <td>Brown</td>\n",
       "      <td>Rabies Risk</td>\n",
       "      <td>1 years</td>\n",
       "      <td>Unknown</td>\n",
       "    </tr>\n",
       "    <tr>\n",
       "      <th>47</th>\n",
       "      <td>A765701</td>\n",
       "      <td>NaN</td>\n",
       "      <td>2018-01-25 09:39:00</td>\n",
       "      <td>2018-01-25T09:39:00.000</td>\n",
       "      <td>2017-01-25T00:00:00.000</td>\n",
       "      <td>Euthanasia</td>\n",
       "      <td>Other</td>\n",
       "      <td>Unknown</td>\n",
       "      <td>1 year</td>\n",
       "      <td>Bat Mix</td>\n",
       "      <td>Brown</td>\n",
       "      <td>Rabies Risk</td>\n",
       "      <td>1 years</td>\n",
       "      <td>Unknown</td>\n",
       "    </tr>\n",
       "    <tr>\n",
       "      <th>54</th>\n",
       "      <td>A730464</td>\n",
       "      <td>NaN</td>\n",
       "      <td>2016-07-05 12:47:00</td>\n",
       "      <td>2016-07-05T12:47:00.000</td>\n",
       "      <td>2015-07-05T00:00:00.000</td>\n",
       "      <td>Euthanasia</td>\n",
       "      <td>Other</td>\n",
       "      <td>Unknown</td>\n",
       "      <td>1 year</td>\n",
       "      <td>Bat</td>\n",
       "      <td>Black/Brown</td>\n",
       "      <td>Rabies Risk</td>\n",
       "      <td>1 years</td>\n",
       "      <td>Unknown</td>\n",
       "    </tr>\n",
       "    <tr>\n",
       "      <th>60</th>\n",
       "      <td>A806497</td>\n",
       "      <td>*Moo</td>\n",
       "      <td>2019-12-17 17:59:00</td>\n",
       "      <td>2019-12-17T17:59:00.000</td>\n",
       "      <td>2019-06-02T00:00:00.000</td>\n",
       "      <td>Adoption</td>\n",
       "      <td>Other</td>\n",
       "      <td>Spayed Female</td>\n",
       "      <td>6 months</td>\n",
       "      <td>Polish</td>\n",
       "      <td>White/White</td>\n",
       "      <td>NaN</td>\n",
       "      <td>6 months</td>\n",
       "      <td>Female</td>\n",
       "    </tr>\n",
       "    <tr>\n",
       "      <th>73</th>\n",
       "      <td>A757815</td>\n",
       "      <td>NaN</td>\n",
       "      <td>2017-09-07 11:00:00</td>\n",
       "      <td>2017-09-07T11:00:00.000</td>\n",
       "      <td>2015-09-07T00:00:00.000</td>\n",
       "      <td>Euthanasia</td>\n",
       "      <td>Other</td>\n",
       "      <td>Unknown</td>\n",
       "      <td>2 years</td>\n",
       "      <td>Raccoon</td>\n",
       "      <td>Gray/Black</td>\n",
       "      <td>Rabies Risk</td>\n",
       "      <td>2 years</td>\n",
       "      <td>Unknown</td>\n",
       "    </tr>\n",
       "    <tr>\n",
       "      <th>95</th>\n",
       "      <td>A734055</td>\n",
       "      <td>NaN</td>\n",
       "      <td>2016-09-01 08:05:00</td>\n",
       "      <td>2016-09-01T08:05:00.000</td>\n",
       "      <td>2015-08-31T00:00:00.000</td>\n",
       "      <td>Euthanasia</td>\n",
       "      <td>Other</td>\n",
       "      <td>Unknown</td>\n",
       "      <td>1 year</td>\n",
       "      <td>Bat Mix</td>\n",
       "      <td>Brown</td>\n",
       "      <td>Rabies Risk</td>\n",
       "      <td>1 years</td>\n",
       "      <td>Unknown</td>\n",
       "    </tr>\n",
       "    <tr>\n",
       "      <th>96</th>\n",
       "      <td>A709257</td>\n",
       "      <td>NaN</td>\n",
       "      <td>2015-08-07 08:35:00</td>\n",
       "      <td>2015-08-07T08:35:00.000</td>\n",
       "      <td>2014-08-06T00:00:00.000</td>\n",
       "      <td>Euthanasia</td>\n",
       "      <td>Other</td>\n",
       "      <td>Unknown</td>\n",
       "      <td>1 year</td>\n",
       "      <td>Bat Mix</td>\n",
       "      <td>Black</td>\n",
       "      <td>Rabies Risk</td>\n",
       "      <td>1 years</td>\n",
       "      <td>Unknown</td>\n",
       "    </tr>\n",
       "    <tr>\n",
       "      <th>103</th>\n",
       "      <td>A727851</td>\n",
       "      <td>NaN</td>\n",
       "      <td>2016-05-26 18:09:00</td>\n",
       "      <td>2016-05-26T18:09:00.000</td>\n",
       "      <td>2014-05-26T00:00:00.000</td>\n",
       "      <td>Euthanasia</td>\n",
       "      <td>Other</td>\n",
       "      <td>Unknown</td>\n",
       "      <td>2 years</td>\n",
       "      <td>Bat Mix</td>\n",
       "      <td>Brown/Black</td>\n",
       "      <td>Rabies Risk</td>\n",
       "      <td>2 years</td>\n",
       "      <td>Unknown</td>\n",
       "    </tr>\n",
       "    <tr>\n",
       "      <th>133</th>\n",
       "      <td>A675548</td>\n",
       "      <td>NaN</td>\n",
       "      <td>2014-03-29 08:42:00</td>\n",
       "      <td>2014-03-29T08:42:00.000</td>\n",
       "      <td>2014-03-01T00:00:00.000</td>\n",
       "      <td>Euthanasia</td>\n",
       "      <td>Other</td>\n",
       "      <td>Unknown</td>\n",
       "      <td>4 weeks</td>\n",
       "      <td>Bat</td>\n",
       "      <td>Brown/Black</td>\n",
       "      <td>Rabies Risk</td>\n",
       "      <td>4 weeks</td>\n",
       "      <td>Unknown</td>\n",
       "    </tr>\n",
       "    <tr>\n",
       "      <th>193</th>\n",
       "      <td>A798215</td>\n",
       "      <td>NaN</td>\n",
       "      <td>2019-06-24 18:06:00</td>\n",
       "      <td>2019-06-24T18:06:00.000</td>\n",
       "      <td>2017-06-23T00:00:00.000</td>\n",
       "      <td>Euthanasia</td>\n",
       "      <td>Other</td>\n",
       "      <td>Unknown</td>\n",
       "      <td>2 years</td>\n",
       "      <td>Raccoon</td>\n",
       "      <td>Brown/Black</td>\n",
       "      <td>Rabies Risk</td>\n",
       "      <td>2 years</td>\n",
       "      <td>Unknown</td>\n",
       "    </tr>\n",
       "    <tr>\n",
       "      <th>220</th>\n",
       "      <td>A713109</td>\n",
       "      <td>NaN</td>\n",
       "      <td>2015-10-04 09:22:00</td>\n",
       "      <td>2015-10-04T09:22:00.000</td>\n",
       "      <td>2013-10-02T00:00:00.000</td>\n",
       "      <td>Euthanasia</td>\n",
       "      <td>Other</td>\n",
       "      <td>Unknown</td>\n",
       "      <td>2 years</td>\n",
       "      <td>Bat Mix</td>\n",
       "      <td>Brown</td>\n",
       "      <td>Rabies Risk</td>\n",
       "      <td>2 years</td>\n",
       "      <td>Unknown</td>\n",
       "    </tr>\n",
       "    <tr>\n",
       "      <th>225</th>\n",
       "      <td>A743602</td>\n",
       "      <td>*Dodger</td>\n",
       "      <td>2017-02-14 14:46:00</td>\n",
       "      <td>2017-02-14T14:46:00.000</td>\n",
       "      <td>2016-05-01T00:00:00.000</td>\n",
       "      <td>Transfer</td>\n",
       "      <td>Other</td>\n",
       "      <td>Intact Male</td>\n",
       "      <td>9 months</td>\n",
       "      <td>Guinea Pig Mix</td>\n",
       "      <td>Tricolor</td>\n",
       "      <td>Partner</td>\n",
       "      <td>9 months</td>\n",
       "      <td>Male</td>\n",
       "    </tr>\n",
       "    <tr>\n",
       "      <th>234</th>\n",
       "      <td>A718919</td>\n",
       "      <td>NaN</td>\n",
       "      <td>2016-01-09 14:55:00</td>\n",
       "      <td>2016-01-09T14:55:00.000</td>\n",
       "      <td>2015-01-09T00:00:00.000</td>\n",
       "      <td>Transfer</td>\n",
       "      <td>Other</td>\n",
       "      <td>Unknown</td>\n",
       "      <td>1 year</td>\n",
       "      <td>Rabbit Sh Mix</td>\n",
       "      <td>Black/White</td>\n",
       "      <td>Partner</td>\n",
       "      <td>1 years</td>\n",
       "      <td>Unknown</td>\n",
       "    </tr>\n",
       "    <tr>\n",
       "      <th>301</th>\n",
       "      <td>A825041</td>\n",
       "      <td>NaN</td>\n",
       "      <td>2020-10-27 09:48:00</td>\n",
       "      <td>2020-10-27T09:48:00.000</td>\n",
       "      <td>2019-10-26T00:00:00.000</td>\n",
       "      <td>Disposal</td>\n",
       "      <td>Other</td>\n",
       "      <td>Unknown</td>\n",
       "      <td>1 year</td>\n",
       "      <td>Bat</td>\n",
       "      <td>Brown</td>\n",
       "      <td>NaN</td>\n",
       "      <td>1 years</td>\n",
       "      <td>Unknown</td>\n",
       "    </tr>\n",
       "    <tr>\n",
       "      <th>311</th>\n",
       "      <td>A712266</td>\n",
       "      <td>NaN</td>\n",
       "      <td>2015-09-20 07:57:00</td>\n",
       "      <td>2015-09-20T07:57:00.000</td>\n",
       "      <td>2015-08-20T00:00:00.000</td>\n",
       "      <td>Died</td>\n",
       "      <td>Other</td>\n",
       "      <td>Unknown</td>\n",
       "      <td>4 weeks</td>\n",
       "      <td>Bat</td>\n",
       "      <td>Brown/Black</td>\n",
       "      <td>In Kennel</td>\n",
       "      <td>4 weeks</td>\n",
       "      <td>Unknown</td>\n",
       "    </tr>\n",
       "    <tr>\n",
       "      <th>325</th>\n",
       "      <td>A903589</td>\n",
       "      <td>*Norma</td>\n",
       "      <td>2024-06-02 14:19:00</td>\n",
       "      <td>2024-06-02T14:19:00.000</td>\n",
       "      <td>2022-04-30T00:00:00.000</td>\n",
       "      <td>Adoption</td>\n",
       "      <td>Other</td>\n",
       "      <td>Intact Female</td>\n",
       "      <td>2 years</td>\n",
       "      <td>Guinea Pig</td>\n",
       "      <td>Tricolor/White</td>\n",
       "      <td>NaN</td>\n",
       "      <td>2 years</td>\n",
       "      <td>Female</td>\n",
       "    </tr>\n",
       "    <tr>\n",
       "      <th>337</th>\n",
       "      <td>A698165</td>\n",
       "      <td>NaN</td>\n",
       "      <td>2015-03-07 09:45:00</td>\n",
       "      <td>2015-03-07T09:45:00.000</td>\n",
       "      <td>2015-02-06T00:00:00.000</td>\n",
       "      <td>Died</td>\n",
       "      <td>Other</td>\n",
       "      <td>Unknown</td>\n",
       "      <td>4 weeks</td>\n",
       "      <td>Bat</td>\n",
       "      <td>Brown/Black</td>\n",
       "      <td>NaN</td>\n",
       "      <td>4 weeks</td>\n",
       "      <td>Unknown</td>\n",
       "    </tr>\n",
       "    <tr>\n",
       "      <th>359</th>\n",
       "      <td>A686043</td>\n",
       "      <td>NaN</td>\n",
       "      <td>2014-08-16 08:41:00</td>\n",
       "      <td>2014-08-16T08:41:00.000</td>\n",
       "      <td>2013-08-15T00:00:00.000</td>\n",
       "      <td>Disposal</td>\n",
       "      <td>Other</td>\n",
       "      <td>Unknown</td>\n",
       "      <td>1 year</td>\n",
       "      <td>Bat Mix</td>\n",
       "      <td>Brown</td>\n",
       "      <td>NaN</td>\n",
       "      <td>1 years</td>\n",
       "      <td>Unknown</td>\n",
       "    </tr>\n",
       "    <tr>\n",
       "      <th>379</th>\n",
       "      <td>A787340</td>\n",
       "      <td>NaN</td>\n",
       "      <td>2019-01-11 14:53:00</td>\n",
       "      <td>2019-01-11T14:53:00.000</td>\n",
       "      <td>2018-01-11T00:00:00.000</td>\n",
       "      <td>Euthanasia</td>\n",
       "      <td>Other</td>\n",
       "      <td>Unknown</td>\n",
       "      <td>1 year</td>\n",
       "      <td>Bat Mix</td>\n",
       "      <td>Brown</td>\n",
       "      <td>Rabies Risk</td>\n",
       "      <td>1 years</td>\n",
       "      <td>Unknown</td>\n",
       "    </tr>\n",
       "    <tr>\n",
       "      <th>380</th>\n",
       "      <td>A860346</td>\n",
       "      <td>NaN</td>\n",
       "      <td>2022-07-01 13:02:00</td>\n",
       "      <td>2022-07-01T13:02:00.000</td>\n",
       "      <td>2020-06-27T00:00:00.000</td>\n",
       "      <td>Euthanasia</td>\n",
       "      <td>Other</td>\n",
       "      <td>Unknown</td>\n",
       "      <td>2 years</td>\n",
       "      <td>Bat</td>\n",
       "      <td>Brown</td>\n",
       "      <td>NaN</td>\n",
       "      <td>2 years</td>\n",
       "      <td>Unknown</td>\n",
       "    </tr>\n",
       "    <tr>\n",
       "      <th>436</th>\n",
       "      <td>A754241</td>\n",
       "      <td>NaN</td>\n",
       "      <td>2017-07-17 18:10:00</td>\n",
       "      <td>2017-07-17T18:10:00.000</td>\n",
       "      <td>2015-07-17T00:00:00.000</td>\n",
       "      <td>Euthanasia</td>\n",
       "      <td>Other</td>\n",
       "      <td>Unknown</td>\n",
       "      <td>2 years</td>\n",
       "      <td>Raccoon Mix</td>\n",
       "      <td>Gray/Black</td>\n",
       "      <td>Rabies Risk</td>\n",
       "      <td>2 years</td>\n",
       "      <td>Unknown</td>\n",
       "    </tr>\n",
       "    <tr>\n",
       "      <th>511</th>\n",
       "      <td>A765867</td>\n",
       "      <td>NaN</td>\n",
       "      <td>2018-01-29 09:45:00</td>\n",
       "      <td>2018-01-29T09:45:00.000</td>\n",
       "      <td>2016-01-28T00:00:00.000</td>\n",
       "      <td>Euthanasia</td>\n",
       "      <td>Other</td>\n",
       "      <td>Unknown</td>\n",
       "      <td>2 years</td>\n",
       "      <td>Bat Mix</td>\n",
       "      <td>Black</td>\n",
       "      <td>Rabies Risk</td>\n",
       "      <td>2 years</td>\n",
       "      <td>Unknown</td>\n",
       "    </tr>\n",
       "    <tr>\n",
       "      <th>517</th>\n",
       "      <td>A702260</td>\n",
       "      <td>Bella</td>\n",
       "      <td>2015-05-12 17:51:00</td>\n",
       "      <td>2015-05-12T17:51:00.000</td>\n",
       "      <td>2011-05-11T00:00:00.000</td>\n",
       "      <td>Transfer</td>\n",
       "      <td>Other</td>\n",
       "      <td>Intact Female</td>\n",
       "      <td>4 years</td>\n",
       "      <td>Guinea Pig Mix</td>\n",
       "      <td>Brown/Orange</td>\n",
       "      <td>Partner</td>\n",
       "      <td>4 years</td>\n",
       "      <td>Female</td>\n",
       "    </tr>\n",
       "    <tr>\n",
       "      <th>518</th>\n",
       "      <td>A707152</td>\n",
       "      <td>NaN</td>\n",
       "      <td>2015-07-09 13:26:00</td>\n",
       "      <td>2015-07-09T13:26:00.000</td>\n",
       "      <td>2014-07-08T00:00:00.000</td>\n",
       "      <td>Transfer</td>\n",
       "      <td>Other</td>\n",
       "      <td>Unknown</td>\n",
       "      <td>1 year</td>\n",
       "      <td>Rabbit Sh Mix</td>\n",
       "      <td>Black</td>\n",
       "      <td>Partner</td>\n",
       "      <td>1 years</td>\n",
       "      <td>Unknown</td>\n",
       "    </tr>\n",
       "    <tr>\n",
       "      <th>525</th>\n",
       "      <td>A910991</td>\n",
       "      <td>NaN</td>\n",
       "      <td>2024-08-08 11:29:00</td>\n",
       "      <td>2024-08-08T11:29:00.000</td>\n",
       "      <td>2022-08-08T00:00:00.000</td>\n",
       "      <td>Disposal</td>\n",
       "      <td>Other</td>\n",
       "      <td>Unknown</td>\n",
       "      <td>2 years</td>\n",
       "      <td>Bat</td>\n",
       "      <td>Brown/Brown</td>\n",
       "      <td>NaN</td>\n",
       "      <td>2 years</td>\n",
       "      <td>Unknown</td>\n",
       "    </tr>\n",
       "    <tr>\n",
       "      <th>530</th>\n",
       "      <td>A738454</td>\n",
       "      <td>NaN</td>\n",
       "      <td>2016-11-15 14:33:00</td>\n",
       "      <td>2016-11-15T14:33:00.000</td>\n",
       "      <td>2014-11-15T00:00:00.000</td>\n",
       "      <td>Euthanasia</td>\n",
       "      <td>Other</td>\n",
       "      <td>Unknown</td>\n",
       "      <td>2 years</td>\n",
       "      <td>Raccoon Mix</td>\n",
       "      <td>Gray/Black</td>\n",
       "      <td>Rabies Risk</td>\n",
       "      <td>2 years</td>\n",
       "      <td>Unknown</td>\n",
       "    </tr>\n",
       "    <tr>\n",
       "      <th>539</th>\n",
       "      <td>A872077</td>\n",
       "      <td>NaN</td>\n",
       "      <td>2023-01-16 10:32:00</td>\n",
       "      <td>2023-01-16T10:32:00.000</td>\n",
       "      <td>2022-12-03T00:00:00.000</td>\n",
       "      <td>Adoption</td>\n",
       "      <td>Other</td>\n",
       "      <td>Unknown</td>\n",
       "      <td>1 month</td>\n",
       "      <td>Lizard</td>\n",
       "      <td>Tan</td>\n",
       "      <td>NaN</td>\n",
       "      <td>1 month</td>\n",
       "      <td>Unknown</td>\n",
       "    </tr>\n",
       "    <tr>\n",
       "      <th>604</th>\n",
       "      <td>A676763</td>\n",
       "      <td>NaN</td>\n",
       "      <td>2014-04-14 19:09:00</td>\n",
       "      <td>2014-04-14T19:09:00.000</td>\n",
       "      <td>2012-04-14T00:00:00.000</td>\n",
       "      <td>Euthanasia</td>\n",
       "      <td>Other</td>\n",
       "      <td>Unknown</td>\n",
       "      <td>2 years</td>\n",
       "      <td>Bat Mix</td>\n",
       "      <td>Brown</td>\n",
       "      <td>Rabies Risk</td>\n",
       "      <td>2 years</td>\n",
       "      <td>Unknown</td>\n",
       "    </tr>\n",
       "    <tr>\n",
       "      <th>633</th>\n",
       "      <td>A817478</td>\n",
       "      <td>NaN</td>\n",
       "      <td>2020-05-17 09:40:00</td>\n",
       "      <td>2020-05-17T09:40:00.000</td>\n",
       "      <td>2018-05-16T00:00:00.000</td>\n",
       "      <td>Euthanasia</td>\n",
       "      <td>Other</td>\n",
       "      <td>Unknown</td>\n",
       "      <td>2 years</td>\n",
       "      <td>Bat</td>\n",
       "      <td>Brown/Brown</td>\n",
       "      <td>Rabies Risk</td>\n",
       "      <td>2 years</td>\n",
       "      <td>Unknown</td>\n",
       "    </tr>\n",
       "    <tr>\n",
       "      <th>634</th>\n",
       "      <td>A868205</td>\n",
       "      <td>NaN</td>\n",
       "      <td>2022-11-02 15:01:00</td>\n",
       "      <td>2022-11-02T15:01:00.000</td>\n",
       "      <td>2020-10-30T00:00:00.000</td>\n",
       "      <td>Euthanasia</td>\n",
       "      <td>Other</td>\n",
       "      <td>Unknown</td>\n",
       "      <td>2 years</td>\n",
       "      <td>Bat</td>\n",
       "      <td>Brown/Brown</td>\n",
       "      <td>Rabies Risk</td>\n",
       "      <td>2 years</td>\n",
       "      <td>Unknown</td>\n",
       "    </tr>\n",
       "    <tr>\n",
       "      <th>660</th>\n",
       "      <td>A701993</td>\n",
       "      <td>Nugget</td>\n",
       "      <td>2015-05-07 16:11:00</td>\n",
       "      <td>2015-05-07T16:11:00.000</td>\n",
       "      <td>2014-05-07T00:00:00.000</td>\n",
       "      <td>Return to Owner</td>\n",
       "      <td>Other</td>\n",
       "      <td>Neutered Male</td>\n",
       "      <td>1 year</td>\n",
       "      <td>Ferret Mix</td>\n",
       "      <td>Black/White</td>\n",
       "      <td>NaN</td>\n",
       "      <td>1 years</td>\n",
       "      <td>Male</td>\n",
       "    </tr>\n",
       "    <tr>\n",
       "      <th>669</th>\n",
       "      <td>A908174</td>\n",
       "      <td>*Peter</td>\n",
       "      <td>2024-07-06 16:42:00</td>\n",
       "      <td>2024-07-06T16:42:00.000</td>\n",
       "      <td>2023-10-28T00:00:00.000</td>\n",
       "      <td>Adoption</td>\n",
       "      <td>Other</td>\n",
       "      <td>Intact Male</td>\n",
       "      <td>8 months</td>\n",
       "      <td>Rabbit Sh</td>\n",
       "      <td>Orange/White</td>\n",
       "      <td>NaN</td>\n",
       "      <td>8 months</td>\n",
       "      <td>Male</td>\n",
       "    </tr>\n",
       "    <tr>\n",
       "      <th>684</th>\n",
       "      <td>A679679</td>\n",
       "      <td>NaN</td>\n",
       "      <td>2014-05-24 17:16:00</td>\n",
       "      <td>2014-05-24T17:16:00.000</td>\n",
       "      <td>2013-05-24T00:00:00.000</td>\n",
       "      <td>Euthanasia</td>\n",
       "      <td>Other</td>\n",
       "      <td>Unknown</td>\n",
       "      <td>1 year</td>\n",
       "      <td>Raccoon Mix</td>\n",
       "      <td>Gray/Black</td>\n",
       "      <td>Rabies Risk</td>\n",
       "      <td>1 years</td>\n",
       "      <td>Unknown</td>\n",
       "    </tr>\n",
       "    <tr>\n",
       "      <th>715</th>\n",
       "      <td>A792677</td>\n",
       "      <td>Zeus</td>\n",
       "      <td>2019-04-15 13:03:00</td>\n",
       "      <td>2019-04-15T13:03:00.000</td>\n",
       "      <td>2017-04-13T00:00:00.000</td>\n",
       "      <td>Transfer</td>\n",
       "      <td>Other</td>\n",
       "      <td>Intact Male</td>\n",
       "      <td>2 years</td>\n",
       "      <td>Guinea Pig</td>\n",
       "      <td>Tricolor</td>\n",
       "      <td>Partner</td>\n",
       "      <td>2 years</td>\n",
       "      <td>Male</td>\n",
       "    </tr>\n",
       "    <tr>\n",
       "      <th>725</th>\n",
       "      <td>A669194</td>\n",
       "      <td>NaN</td>\n",
       "      <td>2013-12-16 18:40:00</td>\n",
       "      <td>2013-12-16T18:40:00.000</td>\n",
       "      <td>2013-06-16T00:00:00.000</td>\n",
       "      <td>Euthanasia</td>\n",
       "      <td>Other</td>\n",
       "      <td>Unknown</td>\n",
       "      <td>6 months</td>\n",
       "      <td>Raccoon Mix</td>\n",
       "      <td>Brown</td>\n",
       "      <td>Rabies Risk</td>\n",
       "      <td>6 months</td>\n",
       "      <td>Unknown</td>\n",
       "    </tr>\n",
       "    <tr>\n",
       "      <th>726</th>\n",
       "      <td>A778869</td>\n",
       "      <td>NaN</td>\n",
       "      <td>2018-08-21 16:41:00</td>\n",
       "      <td>2018-08-21T16:41:00.000</td>\n",
       "      <td>2017-08-21T00:00:00.000</td>\n",
       "      <td>Euthanasia</td>\n",
       "      <td>Other</td>\n",
       "      <td>Unknown</td>\n",
       "      <td>1 year</td>\n",
       "      <td>Bat Mix</td>\n",
       "      <td>Brown</td>\n",
       "      <td>NaN</td>\n",
       "      <td>1 years</td>\n",
       "      <td>Unknown</td>\n",
       "    </tr>\n",
       "    <tr>\n",
       "      <th>763</th>\n",
       "      <td>A722787</td>\n",
       "      <td>NaN</td>\n",
       "      <td>2016-03-22 15:03:00</td>\n",
       "      <td>2016-03-22T15:03:00.000</td>\n",
       "      <td>2013-03-22T00:00:00.000</td>\n",
       "      <td>Euthanasia</td>\n",
       "      <td>Other</td>\n",
       "      <td>Unknown</td>\n",
       "      <td>3 years</td>\n",
       "      <td>Bat Mix</td>\n",
       "      <td>Brown</td>\n",
       "      <td>Rabies Risk</td>\n",
       "      <td>3 years</td>\n",
       "      <td>Unknown</td>\n",
       "    </tr>\n",
       "    <tr>\n",
       "      <th>766</th>\n",
       "      <td>A809493</td>\n",
       "      <td>Theo</td>\n",
       "      <td>2019-11-26 10:35:00</td>\n",
       "      <td>2019-11-26T10:35:00.000</td>\n",
       "      <td>2017-11-25T00:00:00.000</td>\n",
       "      <td>Euthanasia</td>\n",
       "      <td>Other</td>\n",
       "      <td>Unknown</td>\n",
       "      <td>2 years</td>\n",
       "      <td>Chinchilla</td>\n",
       "      <td>Gray</td>\n",
       "      <td>Suffering</td>\n",
       "      <td>2 years</td>\n",
       "      <td>Unknown</td>\n",
       "    </tr>\n",
       "    <tr>\n",
       "      <th>797</th>\n",
       "      <td>A736952</td>\n",
       "      <td>NaN</td>\n",
       "      <td>2016-10-21 10:41:00</td>\n",
       "      <td>2016-10-21T10:41:00.000</td>\n",
       "      <td>2015-10-20T00:00:00.000</td>\n",
       "      <td>Euthanasia</td>\n",
       "      <td>Other</td>\n",
       "      <td>Unknown</td>\n",
       "      <td>1 year</td>\n",
       "      <td>Raccoon Mix</td>\n",
       "      <td>Gray</td>\n",
       "      <td>Rabies Risk</td>\n",
       "      <td>1 years</td>\n",
       "      <td>Unknown</td>\n",
       "    </tr>\n",
       "    <tr>\n",
       "      <th>803</th>\n",
       "      <td>A672968</td>\n",
       "      <td>NaN</td>\n",
       "      <td>2014-02-19 10:25:00</td>\n",
       "      <td>2014-02-19T10:25:00.000</td>\n",
       "      <td>2011-02-18T00:00:00.000</td>\n",
       "      <td>Euthanasia</td>\n",
       "      <td>Other</td>\n",
       "      <td>Unknown</td>\n",
       "      <td>3 years</td>\n",
       "      <td>Bat Mix</td>\n",
       "      <td>Brown</td>\n",
       "      <td>Rabies Risk</td>\n",
       "      <td>3 years</td>\n",
       "      <td>Unknown</td>\n",
       "    </tr>\n",
       "    <tr>\n",
       "      <th>897</th>\n",
       "      <td>A831674</td>\n",
       "      <td>NaN</td>\n",
       "      <td>2021-03-31 18:07:00</td>\n",
       "      <td>2021-03-31T18:07:00.000</td>\n",
       "      <td>2019-03-31T00:00:00.000</td>\n",
       "      <td>Euthanasia</td>\n",
       "      <td>Other</td>\n",
       "      <td>Unknown</td>\n",
       "      <td>2 years</td>\n",
       "      <td>Bat</td>\n",
       "      <td>Brown</td>\n",
       "      <td>Rabies Risk</td>\n",
       "      <td>2 years</td>\n",
       "      <td>Unknown</td>\n",
       "    </tr>\n",
       "    <tr>\n",
       "      <th>906</th>\n",
       "      <td>A672471</td>\n",
       "      <td>NaN</td>\n",
       "      <td>2014-02-10 19:20:00</td>\n",
       "      <td>2014-02-10T19:20:00.000</td>\n",
       "      <td>2012-02-10T00:00:00.000</td>\n",
       "      <td>Euthanasia</td>\n",
       "      <td>Other</td>\n",
       "      <td>Unknown</td>\n",
       "      <td>2 years</td>\n",
       "      <td>Raccoon</td>\n",
       "      <td>Brown/Black</td>\n",
       "      <td>Rabies Risk</td>\n",
       "      <td>2 years</td>\n",
       "      <td>Unknown</td>\n",
       "    </tr>\n",
       "    <tr>\n",
       "      <th>917</th>\n",
       "      <td>A823108</td>\n",
       "      <td>NaN</td>\n",
       "      <td>2020-09-17 10:22:00</td>\n",
       "      <td>2020-09-17T10:22:00.000</td>\n",
       "      <td>2019-09-16T00:00:00.000</td>\n",
       "      <td>Euthanasia</td>\n",
       "      <td>Other</td>\n",
       "      <td>Unknown</td>\n",
       "      <td>1 year</td>\n",
       "      <td>Bat</td>\n",
       "      <td>Brown</td>\n",
       "      <td>Rabies Risk</td>\n",
       "      <td>1 years</td>\n",
       "      <td>Unknown</td>\n",
       "    </tr>\n",
       "    <tr>\n",
       "      <th>929</th>\n",
       "      <td>A796721</td>\n",
       "      <td>NaN</td>\n",
       "      <td>2019-06-04 16:58:00</td>\n",
       "      <td>2019-06-04T16:58:00.000</td>\n",
       "      <td>2018-09-04T00:00:00.000</td>\n",
       "      <td>Euthanasia</td>\n",
       "      <td>Other</td>\n",
       "      <td>Unknown</td>\n",
       "      <td>8 months</td>\n",
       "      <td>Bat</td>\n",
       "      <td>Black/Brown</td>\n",
       "      <td>Rabies Risk</td>\n",
       "      <td>8 months</td>\n",
       "      <td>Unknown</td>\n",
       "    </tr>\n",
       "    <tr>\n",
       "      <th>937</th>\n",
       "      <td>A832316</td>\n",
       "      <td>*Cody</td>\n",
       "      <td>2021-04-22 11:01:00</td>\n",
       "      <td>2021-04-22T11:01:00.000</td>\n",
       "      <td>2019-04-11T00:00:00.000</td>\n",
       "      <td>Transfer</td>\n",
       "      <td>Other</td>\n",
       "      <td>Intact Male</td>\n",
       "      <td>2 years</td>\n",
       "      <td>Guinea Pig</td>\n",
       "      <td>White/Brown</td>\n",
       "      <td>Partner</td>\n",
       "      <td>2 years</td>\n",
       "      <td>Male</td>\n",
       "    </tr>\n",
       "    <tr>\n",
       "      <th>960</th>\n",
       "      <td>A868865</td>\n",
       "      <td>A868865</td>\n",
       "      <td>2022-11-10 18:42:00</td>\n",
       "      <td>2022-11-10T18:42:00.000</td>\n",
       "      <td>2022-08-09T00:00:00.000</td>\n",
       "      <td>Transfer</td>\n",
       "      <td>Other</td>\n",
       "      <td>Unknown</td>\n",
       "      <td>3 months</td>\n",
       "      <td>Guinea Pig</td>\n",
       "      <td>Tricolor/Brown</td>\n",
       "      <td>Partner</td>\n",
       "      <td>3 months</td>\n",
       "      <td>Unknown</td>\n",
       "    </tr>\n",
       "    <tr>\n",
       "      <th>965</th>\n",
       "      <td>A721659</td>\n",
       "      <td>Milshake</td>\n",
       "      <td>2016-03-02 12:16:00</td>\n",
       "      <td>2016-03-02T12:16:00.000</td>\n",
       "      <td>2015-12-10T00:00:00.000</td>\n",
       "      <td>Transfer</td>\n",
       "      <td>Other</td>\n",
       "      <td>Intact Female</td>\n",
       "      <td>2 months</td>\n",
       "      <td>Guinea Pig Mix</td>\n",
       "      <td>Chocolate/White</td>\n",
       "      <td>Partner</td>\n",
       "      <td>2 months</td>\n",
       "      <td>Female</td>\n",
       "    </tr>\n",
       "    <tr>\n",
       "      <th>971</th>\n",
       "      <td>A866691</td>\n",
       "      <td>NaN</td>\n",
       "      <td>2022-10-08 10:47:00</td>\n",
       "      <td>2022-10-08T10:47:00.000</td>\n",
       "      <td>2020-10-04T00:00:00.000</td>\n",
       "      <td>Died</td>\n",
       "      <td>Other</td>\n",
       "      <td>Unknown</td>\n",
       "      <td>2 years</td>\n",
       "      <td>Bat</td>\n",
       "      <td>Brown/Brown</td>\n",
       "      <td>In Kennel</td>\n",
       "      <td>2 years</td>\n",
       "      <td>Unknown</td>\n",
       "    </tr>\n",
       "  </tbody>\n",
       "</table>\n",
       "</div>"
      ],
      "text/plain": [
       "    animal_id      name            datetime                monthyear  \\\n",
       "3     A821648       NaN 2020-08-16 11:38:00  2020-08-16T11:38:00.000   \n",
       "24    A910622       NaN 2024-08-01 13:05:00  2024-08-01T13:05:00.000   \n",
       "29    A725795       NaN 2016-05-03 12:39:00  2016-05-03T12:39:00.000   \n",
       "41    A766700       NaN 2018-02-15 08:59:00  2018-02-15T08:59:00.000   \n",
       "47    A765701       NaN 2018-01-25 09:39:00  2018-01-25T09:39:00.000   \n",
       "54    A730464       NaN 2016-07-05 12:47:00  2016-07-05T12:47:00.000   \n",
       "60    A806497      *Moo 2019-12-17 17:59:00  2019-12-17T17:59:00.000   \n",
       "73    A757815       NaN 2017-09-07 11:00:00  2017-09-07T11:00:00.000   \n",
       "95    A734055       NaN 2016-09-01 08:05:00  2016-09-01T08:05:00.000   \n",
       "96    A709257       NaN 2015-08-07 08:35:00  2015-08-07T08:35:00.000   \n",
       "103   A727851       NaN 2016-05-26 18:09:00  2016-05-26T18:09:00.000   \n",
       "133   A675548       NaN 2014-03-29 08:42:00  2014-03-29T08:42:00.000   \n",
       "193   A798215       NaN 2019-06-24 18:06:00  2019-06-24T18:06:00.000   \n",
       "220   A713109       NaN 2015-10-04 09:22:00  2015-10-04T09:22:00.000   \n",
       "225   A743602   *Dodger 2017-02-14 14:46:00  2017-02-14T14:46:00.000   \n",
       "234   A718919       NaN 2016-01-09 14:55:00  2016-01-09T14:55:00.000   \n",
       "301   A825041       NaN 2020-10-27 09:48:00  2020-10-27T09:48:00.000   \n",
       "311   A712266       NaN 2015-09-20 07:57:00  2015-09-20T07:57:00.000   \n",
       "325   A903589    *Norma 2024-06-02 14:19:00  2024-06-02T14:19:00.000   \n",
       "337   A698165       NaN 2015-03-07 09:45:00  2015-03-07T09:45:00.000   \n",
       "359   A686043       NaN 2014-08-16 08:41:00  2014-08-16T08:41:00.000   \n",
       "379   A787340       NaN 2019-01-11 14:53:00  2019-01-11T14:53:00.000   \n",
       "380   A860346       NaN 2022-07-01 13:02:00  2022-07-01T13:02:00.000   \n",
       "436   A754241       NaN 2017-07-17 18:10:00  2017-07-17T18:10:00.000   \n",
       "511   A765867       NaN 2018-01-29 09:45:00  2018-01-29T09:45:00.000   \n",
       "517   A702260     Bella 2015-05-12 17:51:00  2015-05-12T17:51:00.000   \n",
       "518   A707152       NaN 2015-07-09 13:26:00  2015-07-09T13:26:00.000   \n",
       "525   A910991       NaN 2024-08-08 11:29:00  2024-08-08T11:29:00.000   \n",
       "530   A738454       NaN 2016-11-15 14:33:00  2016-11-15T14:33:00.000   \n",
       "539   A872077       NaN 2023-01-16 10:32:00  2023-01-16T10:32:00.000   \n",
       "604   A676763       NaN 2014-04-14 19:09:00  2014-04-14T19:09:00.000   \n",
       "633   A817478       NaN 2020-05-17 09:40:00  2020-05-17T09:40:00.000   \n",
       "634   A868205       NaN 2022-11-02 15:01:00  2022-11-02T15:01:00.000   \n",
       "660   A701993    Nugget 2015-05-07 16:11:00  2015-05-07T16:11:00.000   \n",
       "669   A908174    *Peter 2024-07-06 16:42:00  2024-07-06T16:42:00.000   \n",
       "684   A679679       NaN 2014-05-24 17:16:00  2014-05-24T17:16:00.000   \n",
       "715   A792677      Zeus 2019-04-15 13:03:00  2019-04-15T13:03:00.000   \n",
       "725   A669194       NaN 2013-12-16 18:40:00  2013-12-16T18:40:00.000   \n",
       "726   A778869       NaN 2018-08-21 16:41:00  2018-08-21T16:41:00.000   \n",
       "763   A722787       NaN 2016-03-22 15:03:00  2016-03-22T15:03:00.000   \n",
       "766   A809493      Theo 2019-11-26 10:35:00  2019-11-26T10:35:00.000   \n",
       "797   A736952       NaN 2016-10-21 10:41:00  2016-10-21T10:41:00.000   \n",
       "803   A672968       NaN 2014-02-19 10:25:00  2014-02-19T10:25:00.000   \n",
       "897   A831674       NaN 2021-03-31 18:07:00  2021-03-31T18:07:00.000   \n",
       "906   A672471       NaN 2014-02-10 19:20:00  2014-02-10T19:20:00.000   \n",
       "917   A823108       NaN 2020-09-17 10:22:00  2020-09-17T10:22:00.000   \n",
       "929   A796721       NaN 2019-06-04 16:58:00  2019-06-04T16:58:00.000   \n",
       "937   A832316     *Cody 2021-04-22 11:01:00  2021-04-22T11:01:00.000   \n",
       "960   A868865   A868865 2022-11-10 18:42:00  2022-11-10T18:42:00.000   \n",
       "965   A721659  Milshake 2016-03-02 12:16:00  2016-03-02T12:16:00.000   \n",
       "971   A866691       NaN 2022-10-08 10:47:00  2022-10-08T10:47:00.000   \n",
       "\n",
       "               date_of_birth     outcome_type animal_type sex_upon_outcome  \\\n",
       "3    2019-08-16T00:00:00.000       Euthanasia       Other          Unknown   \n",
       "24   2022-08-01T00:00:00.000       Euthanasia       Other          Unknown   \n",
       "29   2016-04-15T00:00:00.000       Euthanasia       Other          Unknown   \n",
       "41   2017-02-15T00:00:00.000       Euthanasia       Other          Unknown   \n",
       "47   2017-01-25T00:00:00.000       Euthanasia       Other          Unknown   \n",
       "54   2015-07-05T00:00:00.000       Euthanasia       Other          Unknown   \n",
       "60   2019-06-02T00:00:00.000         Adoption       Other    Spayed Female   \n",
       "73   2015-09-07T00:00:00.000       Euthanasia       Other          Unknown   \n",
       "95   2015-08-31T00:00:00.000       Euthanasia       Other          Unknown   \n",
       "96   2014-08-06T00:00:00.000       Euthanasia       Other          Unknown   \n",
       "103  2014-05-26T00:00:00.000       Euthanasia       Other          Unknown   \n",
       "133  2014-03-01T00:00:00.000       Euthanasia       Other          Unknown   \n",
       "193  2017-06-23T00:00:00.000       Euthanasia       Other          Unknown   \n",
       "220  2013-10-02T00:00:00.000       Euthanasia       Other          Unknown   \n",
       "225  2016-05-01T00:00:00.000         Transfer       Other      Intact Male   \n",
       "234  2015-01-09T00:00:00.000         Transfer       Other          Unknown   \n",
       "301  2019-10-26T00:00:00.000         Disposal       Other          Unknown   \n",
       "311  2015-08-20T00:00:00.000             Died       Other          Unknown   \n",
       "325  2022-04-30T00:00:00.000         Adoption       Other    Intact Female   \n",
       "337  2015-02-06T00:00:00.000             Died       Other          Unknown   \n",
       "359  2013-08-15T00:00:00.000         Disposal       Other          Unknown   \n",
       "379  2018-01-11T00:00:00.000       Euthanasia       Other          Unknown   \n",
       "380  2020-06-27T00:00:00.000       Euthanasia       Other          Unknown   \n",
       "436  2015-07-17T00:00:00.000       Euthanasia       Other          Unknown   \n",
       "511  2016-01-28T00:00:00.000       Euthanasia       Other          Unknown   \n",
       "517  2011-05-11T00:00:00.000         Transfer       Other    Intact Female   \n",
       "518  2014-07-08T00:00:00.000         Transfer       Other          Unknown   \n",
       "525  2022-08-08T00:00:00.000         Disposal       Other          Unknown   \n",
       "530  2014-11-15T00:00:00.000       Euthanasia       Other          Unknown   \n",
       "539  2022-12-03T00:00:00.000         Adoption       Other          Unknown   \n",
       "604  2012-04-14T00:00:00.000       Euthanasia       Other          Unknown   \n",
       "633  2018-05-16T00:00:00.000       Euthanasia       Other          Unknown   \n",
       "634  2020-10-30T00:00:00.000       Euthanasia       Other          Unknown   \n",
       "660  2014-05-07T00:00:00.000  Return to Owner       Other    Neutered Male   \n",
       "669  2023-10-28T00:00:00.000         Adoption       Other      Intact Male   \n",
       "684  2013-05-24T00:00:00.000       Euthanasia       Other          Unknown   \n",
       "715  2017-04-13T00:00:00.000         Transfer       Other      Intact Male   \n",
       "725  2013-06-16T00:00:00.000       Euthanasia       Other          Unknown   \n",
       "726  2017-08-21T00:00:00.000       Euthanasia       Other          Unknown   \n",
       "763  2013-03-22T00:00:00.000       Euthanasia       Other          Unknown   \n",
       "766  2017-11-25T00:00:00.000       Euthanasia       Other          Unknown   \n",
       "797  2015-10-20T00:00:00.000       Euthanasia       Other          Unknown   \n",
       "803  2011-02-18T00:00:00.000       Euthanasia       Other          Unknown   \n",
       "897  2019-03-31T00:00:00.000       Euthanasia       Other          Unknown   \n",
       "906  2012-02-10T00:00:00.000       Euthanasia       Other          Unknown   \n",
       "917  2019-09-16T00:00:00.000       Euthanasia       Other          Unknown   \n",
       "929  2018-09-04T00:00:00.000       Euthanasia       Other          Unknown   \n",
       "937  2019-04-11T00:00:00.000         Transfer       Other      Intact Male   \n",
       "960  2022-08-09T00:00:00.000         Transfer       Other          Unknown   \n",
       "965  2015-12-10T00:00:00.000         Transfer       Other    Intact Female   \n",
       "971  2020-10-04T00:00:00.000             Died       Other          Unknown   \n",
       "\n",
       "    age_upon_outcome           breed            color outcome_subtype  \\\n",
       "3             1 year         Raccoon             Gray             NaN   \n",
       "24           2 years         Raccoon       Black/Gray          At Vet   \n",
       "29           2 weeks         Opossum             Gray        Underage   \n",
       "41            1 year         Bat Mix            Brown     Rabies Risk   \n",
       "47            1 year         Bat Mix            Brown     Rabies Risk   \n",
       "54            1 year             Bat      Black/Brown     Rabies Risk   \n",
       "60          6 months          Polish      White/White             NaN   \n",
       "73           2 years         Raccoon       Gray/Black     Rabies Risk   \n",
       "95            1 year         Bat Mix            Brown     Rabies Risk   \n",
       "96            1 year         Bat Mix            Black     Rabies Risk   \n",
       "103          2 years         Bat Mix      Brown/Black     Rabies Risk   \n",
       "133          4 weeks             Bat      Brown/Black     Rabies Risk   \n",
       "193          2 years         Raccoon      Brown/Black     Rabies Risk   \n",
       "220          2 years         Bat Mix            Brown     Rabies Risk   \n",
       "225         9 months  Guinea Pig Mix         Tricolor         Partner   \n",
       "234           1 year   Rabbit Sh Mix      Black/White         Partner   \n",
       "301           1 year             Bat            Brown             NaN   \n",
       "311          4 weeks             Bat      Brown/Black       In Kennel   \n",
       "325          2 years      Guinea Pig   Tricolor/White             NaN   \n",
       "337          4 weeks             Bat      Brown/Black             NaN   \n",
       "359           1 year         Bat Mix            Brown             NaN   \n",
       "379           1 year         Bat Mix            Brown     Rabies Risk   \n",
       "380          2 years             Bat            Brown             NaN   \n",
       "436          2 years     Raccoon Mix       Gray/Black     Rabies Risk   \n",
       "511          2 years         Bat Mix            Black     Rabies Risk   \n",
       "517          4 years  Guinea Pig Mix     Brown/Orange         Partner   \n",
       "518           1 year   Rabbit Sh Mix            Black         Partner   \n",
       "525          2 years             Bat      Brown/Brown             NaN   \n",
       "530          2 years     Raccoon Mix       Gray/Black     Rabies Risk   \n",
       "539          1 month          Lizard              Tan             NaN   \n",
       "604          2 years         Bat Mix            Brown     Rabies Risk   \n",
       "633          2 years             Bat      Brown/Brown     Rabies Risk   \n",
       "634          2 years             Bat      Brown/Brown     Rabies Risk   \n",
       "660           1 year      Ferret Mix      Black/White             NaN   \n",
       "669         8 months       Rabbit Sh     Orange/White             NaN   \n",
       "684           1 year     Raccoon Mix       Gray/Black     Rabies Risk   \n",
       "715          2 years      Guinea Pig         Tricolor         Partner   \n",
       "725         6 months     Raccoon Mix            Brown     Rabies Risk   \n",
       "726           1 year         Bat Mix            Brown             NaN   \n",
       "763          3 years         Bat Mix            Brown     Rabies Risk   \n",
       "766          2 years      Chinchilla             Gray       Suffering   \n",
       "797           1 year     Raccoon Mix             Gray     Rabies Risk   \n",
       "803          3 years         Bat Mix            Brown     Rabies Risk   \n",
       "897          2 years             Bat            Brown     Rabies Risk   \n",
       "906          2 years         Raccoon      Brown/Black     Rabies Risk   \n",
       "917           1 year             Bat            Brown     Rabies Risk   \n",
       "929         8 months             Bat      Black/Brown     Rabies Risk   \n",
       "937          2 years      Guinea Pig      White/Brown         Partner   \n",
       "960         3 months      Guinea Pig   Tricolor/Brown         Partner   \n",
       "965         2 months  Guinea Pig Mix  Chocolate/White         Partner   \n",
       "971          2 years             Bat      Brown/Brown       In Kennel   \n",
       "\n",
       "     new_age1 new_sex1  \n",
       "3     1 years  Unknown  \n",
       "24    2 years  Unknown  \n",
       "29    2 weeks  Unknown  \n",
       "41    1 years  Unknown  \n",
       "47    1 years  Unknown  \n",
       "54    1 years  Unknown  \n",
       "60   6 months   Female  \n",
       "73    2 years  Unknown  \n",
       "95    1 years  Unknown  \n",
       "96    1 years  Unknown  \n",
       "103   2 years  Unknown  \n",
       "133   4 weeks  Unknown  \n",
       "193   2 years  Unknown  \n",
       "220   2 years  Unknown  \n",
       "225  9 months     Male  \n",
       "234   1 years  Unknown  \n",
       "301   1 years  Unknown  \n",
       "311   4 weeks  Unknown  \n",
       "325   2 years   Female  \n",
       "337   4 weeks  Unknown  \n",
       "359   1 years  Unknown  \n",
       "379   1 years  Unknown  \n",
       "380   2 years  Unknown  \n",
       "436   2 years  Unknown  \n",
       "511   2 years  Unknown  \n",
       "517   4 years   Female  \n",
       "518   1 years  Unknown  \n",
       "525   2 years  Unknown  \n",
       "530   2 years  Unknown  \n",
       "539   1 month  Unknown  \n",
       "604   2 years  Unknown  \n",
       "633   2 years  Unknown  \n",
       "634   2 years  Unknown  \n",
       "660   1 years     Male  \n",
       "669  8 months     Male  \n",
       "684   1 years  Unknown  \n",
       "715   2 years     Male  \n",
       "725  6 months  Unknown  \n",
       "726   1 years  Unknown  \n",
       "763   3 years  Unknown  \n",
       "766   2 years  Unknown  \n",
       "797   1 years  Unknown  \n",
       "803   3 years  Unknown  \n",
       "897   2 years  Unknown  \n",
       "906   2 years  Unknown  \n",
       "917   1 years  Unknown  \n",
       "929  8 months  Unknown  \n",
       "937   2 years     Male  \n",
       "960  3 months  Unknown  \n",
       "965  2 months   Female  \n",
       "971   2 years  Unknown  "
      ]
     },
     "execution_count": 28,
     "metadata": {},
     "output_type": "execute_result"
    }
   ],
   "source": [
    "animals[animals['animal_type'] == 'Other']"
   ]
  },
  {
   "cell_type": "code",
   "execution_count": 29,
   "metadata": {
    "hidden": true
   },
   "outputs": [
    {
     "data": {
      "text/plain": [
       "animal_type\n",
       "Dog      564\n",
       "Cat      382\n",
       "Other     51\n",
       "Bird       3\n",
       "Name: count, dtype: int64"
      ]
     },
     "execution_count": 29,
     "metadata": {},
     "output_type": "execute_result"
    }
   ],
   "source": [
    "animals['animal_type'].value_counts()"
   ]
  },
  {
   "cell_type": "code",
   "execution_count": 30,
   "metadata": {
    "hidden": true,
    "scrolled": true
   },
   "outputs": [
    {
     "data": {
      "text/plain": [
       "animal_type\n",
       "Dog     564\n",
       "Cat     382\n",
       "Bird      3\n",
       "Name: count, dtype: int64"
      ]
     },
     "execution_count": 30,
     "metadata": {},
     "output_type": "execute_result"
    }
   ],
   "source": [
    "animals['animal_type'].map(lambda x: np.nan if x == 'Other' else x).value_counts()"
   ]
  },
  {
   "cell_type": "markdown",
   "metadata": {
    "heading_collapsed": true
   },
   "source": [
    "# Handling Missing Data"
   ]
  },
  {
   "cell_type": "markdown",
   "metadata": {
    "hidden": true
   },
   "source": [
    "A lot of the times we'll have missing information in our data set. This can sometimes be troublesome in what we're trying to do."
   ]
  },
  {
   "cell_type": "markdown",
   "metadata": {
    "hidden": true
   },
   "source": [
    "So far, we've been doing some preprocessing/cleaning to answer questions. Now we're going to handle the missing values in our data.\n",
    "\n",
    "There are a few strategies we can choose from and they each have their special use case."
   ]
  },
  {
   "cell_type": "markdown",
   "metadata": {
    "hidden": true
   },
   "source": [
    "> Before making changes, it's convenient to make changes to a copy instead of overwriting data. We'll keep all our changes in `animals_clean` which will be a [copy](https://pandas.pydata.org/docs/reference/api/pandas.DataFrame.copy.html) of the original DataFrame."
   ]
  },
  {
   "cell_type": "code",
   "execution_count": 31,
   "metadata": {
    "hidden": true
   },
   "outputs": [],
   "source": [
    "animals_clean = animals.copy()"
   ]
  },
  {
   "cell_type": "markdown",
   "metadata": {
    "heading_collapsed": true,
    "hidden": true
   },
   "source": [
    "## Fill with a Relevant Value"
   ]
  },
  {
   "cell_type": "markdown",
   "metadata": {
    "hidden": true
   },
   "source": [
    "A lot of times we already have an idea of how we want to specify that a value was missing and replace it with a value that makes more sense than an \"empty\" value."
   ]
  },
  {
   "cell_type": "markdown",
   "metadata": {
    "hidden": true
   },
   "source": [
    "For example, it might make sense to fill the value as \"MISSING\" or \"UNKNOWN\". This way it's clearer when do more analysis."
   ]
  },
  {
   "cell_type": "markdown",
   "metadata": {
    "hidden": true
   },
   "source": [
    "> We can use Pandas' [`fillna()` method](https://pandas.pydata.org/pandas-docs/stable/reference/api/pandas.DataFrame.fillna.html) to replace missing values with something specific"
   ]
  },
  {
   "cell_type": "code",
   "execution_count": 32,
   "metadata": {
    "hidden": true
   },
   "outputs": [
    {
     "data": {
      "text/html": [
       "<div>\n",
       "<style scoped>\n",
       "    .dataframe tbody tr th:only-of-type {\n",
       "        vertical-align: middle;\n",
       "    }\n",
       "\n",
       "    .dataframe tbody tr th {\n",
       "        vertical-align: top;\n",
       "    }\n",
       "\n",
       "    .dataframe thead th {\n",
       "        text-align: right;\n",
       "    }\n",
       "</style>\n",
       "<table border=\"1\" class=\"dataframe\">\n",
       "  <thead>\n",
       "    <tr style=\"text-align: right;\">\n",
       "      <th></th>\n",
       "      <th>animal_id</th>\n",
       "      <th>name</th>\n",
       "      <th>datetime</th>\n",
       "      <th>monthyear</th>\n",
       "      <th>date_of_birth</th>\n",
       "      <th>outcome_type</th>\n",
       "      <th>animal_type</th>\n",
       "      <th>sex_upon_outcome</th>\n",
       "      <th>age_upon_outcome</th>\n",
       "      <th>breed</th>\n",
       "      <th>color</th>\n",
       "      <th>outcome_subtype</th>\n",
       "      <th>new_age1</th>\n",
       "      <th>new_sex1</th>\n",
       "    </tr>\n",
       "  </thead>\n",
       "  <tbody>\n",
       "    <tr>\n",
       "      <th>0</th>\n",
       "      <td>A882831</td>\n",
       "      <td>*Hamilton</td>\n",
       "      <td>2023-07-01 18:12:00</td>\n",
       "      <td>2023-07-01T18:12:00.000</td>\n",
       "      <td>2023-03-25T00:00:00.000</td>\n",
       "      <td>Adoption</td>\n",
       "      <td>Cat</td>\n",
       "      <td>Neutered Male</td>\n",
       "      <td>3 months</td>\n",
       "      <td>Domestic Shorthair Mix</td>\n",
       "      <td>Black/White</td>\n",
       "      <td>NaN</td>\n",
       "      <td>3 months</td>\n",
       "      <td>Male</td>\n",
       "    </tr>\n",
       "    <tr>\n",
       "      <th>1</th>\n",
       "      <td>A794011</td>\n",
       "      <td>Chunk</td>\n",
       "      <td>2019-05-08 18:20:00</td>\n",
       "      <td>2019-05-08T18:20:00.000</td>\n",
       "      <td>2017-05-02T00:00:00.000</td>\n",
       "      <td>Rto-Adopt</td>\n",
       "      <td>Cat</td>\n",
       "      <td>Neutered Male</td>\n",
       "      <td>2 years</td>\n",
       "      <td>Domestic Shorthair Mix</td>\n",
       "      <td>Brown Tabby/White</td>\n",
       "      <td>NaN</td>\n",
       "      <td>2 years</td>\n",
       "      <td>Male</td>\n",
       "    </tr>\n",
       "    <tr>\n",
       "      <th>2</th>\n",
       "      <td>A776359</td>\n",
       "      <td>Gizmo</td>\n",
       "      <td>2018-07-18 16:02:00</td>\n",
       "      <td>2018-07-18T16:02:00.000</td>\n",
       "      <td>2017-07-12T00:00:00.000</td>\n",
       "      <td>Adoption</td>\n",
       "      <td>Dog</td>\n",
       "      <td>Neutered Male</td>\n",
       "      <td>1 year</td>\n",
       "      <td>Chihuahua Shorthair Mix</td>\n",
       "      <td>White/Brown</td>\n",
       "      <td>NaN</td>\n",
       "      <td>1 years</td>\n",
       "      <td>Male</td>\n",
       "    </tr>\n",
       "    <tr>\n",
       "      <th>3</th>\n",
       "      <td>A821648</td>\n",
       "      <td>UNKNOWN</td>\n",
       "      <td>2020-08-16 11:38:00</td>\n",
       "      <td>2020-08-16T11:38:00.000</td>\n",
       "      <td>2019-08-16T00:00:00.000</td>\n",
       "      <td>Euthanasia</td>\n",
       "      <td>Other</td>\n",
       "      <td>Unknown</td>\n",
       "      <td>1 year</td>\n",
       "      <td>Raccoon</td>\n",
       "      <td>Gray</td>\n",
       "      <td>NaN</td>\n",
       "      <td>1 years</td>\n",
       "      <td>Unknown</td>\n",
       "    </tr>\n",
       "    <tr>\n",
       "      <th>4</th>\n",
       "      <td>A720371</td>\n",
       "      <td>Moose</td>\n",
       "      <td>2016-02-13 17:59:00</td>\n",
       "      <td>2016-02-13T17:59:00.000</td>\n",
       "      <td>2015-10-08T00:00:00.000</td>\n",
       "      <td>Adoption</td>\n",
       "      <td>Dog</td>\n",
       "      <td>Neutered Male</td>\n",
       "      <td>4 months</td>\n",
       "      <td>Anatol Shepherd/Labrador Retriever</td>\n",
       "      <td>Buff</td>\n",
       "      <td>NaN</td>\n",
       "      <td>4 months</td>\n",
       "      <td>Male</td>\n",
       "    </tr>\n",
       "  </tbody>\n",
       "</table>\n",
       "</div>"
      ],
      "text/plain": [
       "  animal_id       name            datetime                monthyear  \\\n",
       "0   A882831  *Hamilton 2023-07-01 18:12:00  2023-07-01T18:12:00.000   \n",
       "1   A794011      Chunk 2019-05-08 18:20:00  2019-05-08T18:20:00.000   \n",
       "2   A776359      Gizmo 2018-07-18 16:02:00  2018-07-18T16:02:00.000   \n",
       "3   A821648    UNKNOWN 2020-08-16 11:38:00  2020-08-16T11:38:00.000   \n",
       "4   A720371      Moose 2016-02-13 17:59:00  2016-02-13T17:59:00.000   \n",
       "\n",
       "             date_of_birth outcome_type animal_type sex_upon_outcome  \\\n",
       "0  2023-03-25T00:00:00.000     Adoption         Cat    Neutered Male   \n",
       "1  2017-05-02T00:00:00.000    Rto-Adopt         Cat    Neutered Male   \n",
       "2  2017-07-12T00:00:00.000     Adoption         Dog    Neutered Male   \n",
       "3  2019-08-16T00:00:00.000   Euthanasia       Other          Unknown   \n",
       "4  2015-10-08T00:00:00.000     Adoption         Dog    Neutered Male   \n",
       "\n",
       "  age_upon_outcome                               breed              color  \\\n",
       "0         3 months              Domestic Shorthair Mix        Black/White   \n",
       "1          2 years              Domestic Shorthair Mix  Brown Tabby/White   \n",
       "2           1 year             Chihuahua Shorthair Mix        White/Brown   \n",
       "3           1 year                             Raccoon               Gray   \n",
       "4         4 months  Anatol Shepherd/Labrador Retriever               Buff   \n",
       "\n",
       "  outcome_subtype  new_age1 new_sex1  \n",
       "0             NaN  3 months     Male  \n",
       "1             NaN   2 years     Male  \n",
       "2             NaN   1 years     Male  \n",
       "3             NaN   1 years  Unknown  \n",
       "4             NaN  4 months     Male  "
      ]
     },
     "execution_count": 32,
     "metadata": {},
     "output_type": "execute_result"
    }
   ],
   "source": [
    "# Note this creates a copy of `animals` with the missing values replaced\n",
    "animals_name_filled = animals.fillna({'name':'UNKNOWN'}) # {col_name:new_value}\n",
    "animals_name_filled.head()"
   ]
  },
  {
   "cell_type": "code",
   "execution_count": 33,
   "metadata": {
    "hidden": true
   },
   "outputs": [
    {
     "data": {
      "text/html": [
       "<div>\n",
       "<style scoped>\n",
       "    .dataframe tbody tr th:only-of-type {\n",
       "        vertical-align: middle;\n",
       "    }\n",
       "\n",
       "    .dataframe tbody tr th {\n",
       "        vertical-align: top;\n",
       "    }\n",
       "\n",
       "    .dataframe thead th {\n",
       "        text-align: right;\n",
       "    }\n",
       "</style>\n",
       "<table border=\"1\" class=\"dataframe\">\n",
       "  <thead>\n",
       "    <tr style=\"text-align: right;\">\n",
       "      <th></th>\n",
       "      <th>animal_id</th>\n",
       "      <th>name</th>\n",
       "      <th>datetime</th>\n",
       "      <th>monthyear</th>\n",
       "      <th>date_of_birth</th>\n",
       "      <th>outcome_type</th>\n",
       "      <th>animal_type</th>\n",
       "      <th>sex_upon_outcome</th>\n",
       "      <th>age_upon_outcome</th>\n",
       "      <th>breed</th>\n",
       "      <th>color</th>\n",
       "      <th>outcome_subtype</th>\n",
       "      <th>new_age1</th>\n",
       "      <th>new_sex1</th>\n",
       "    </tr>\n",
       "  </thead>\n",
       "  <tbody>\n",
       "    <tr>\n",
       "      <th>0</th>\n",
       "      <td>A882831</td>\n",
       "      <td>*Hamilton</td>\n",
       "      <td>2023-07-01 18:12:00</td>\n",
       "      <td>2023-07-01T18:12:00.000</td>\n",
       "      <td>2023-03-25T00:00:00.000</td>\n",
       "      <td>Adoption</td>\n",
       "      <td>Cat</td>\n",
       "      <td>Neutered Male</td>\n",
       "      <td>3 months</td>\n",
       "      <td>Domestic Shorthair Mix</td>\n",
       "      <td>Black/White</td>\n",
       "      <td>NaN</td>\n",
       "      <td>3 months</td>\n",
       "      <td>Male</td>\n",
       "    </tr>\n",
       "    <tr>\n",
       "      <th>1</th>\n",
       "      <td>A794011</td>\n",
       "      <td>Chunk</td>\n",
       "      <td>2019-05-08 18:20:00</td>\n",
       "      <td>2019-05-08T18:20:00.000</td>\n",
       "      <td>2017-05-02T00:00:00.000</td>\n",
       "      <td>Rto-Adopt</td>\n",
       "      <td>Cat</td>\n",
       "      <td>Neutered Male</td>\n",
       "      <td>2 years</td>\n",
       "      <td>Domestic Shorthair Mix</td>\n",
       "      <td>Brown Tabby/White</td>\n",
       "      <td>NaN</td>\n",
       "      <td>2 years</td>\n",
       "      <td>Male</td>\n",
       "    </tr>\n",
       "    <tr>\n",
       "      <th>2</th>\n",
       "      <td>A776359</td>\n",
       "      <td>Gizmo</td>\n",
       "      <td>2018-07-18 16:02:00</td>\n",
       "      <td>2018-07-18T16:02:00.000</td>\n",
       "      <td>2017-07-12T00:00:00.000</td>\n",
       "      <td>Adoption</td>\n",
       "      <td>Dog</td>\n",
       "      <td>Neutered Male</td>\n",
       "      <td>1 year</td>\n",
       "      <td>Chihuahua Shorthair Mix</td>\n",
       "      <td>White/Brown</td>\n",
       "      <td>NaN</td>\n",
       "      <td>1 years</td>\n",
       "      <td>Male</td>\n",
       "    </tr>\n",
       "    <tr>\n",
       "      <th>3</th>\n",
       "      <td>A821648</td>\n",
       "      <td>NaN</td>\n",
       "      <td>2020-08-16 11:38:00</td>\n",
       "      <td>2020-08-16T11:38:00.000</td>\n",
       "      <td>2019-08-16T00:00:00.000</td>\n",
       "      <td>Euthanasia</td>\n",
       "      <td>Other</td>\n",
       "      <td>Unknown</td>\n",
       "      <td>1 year</td>\n",
       "      <td>Raccoon</td>\n",
       "      <td>Gray</td>\n",
       "      <td>NaN</td>\n",
       "      <td>1 years</td>\n",
       "      <td>Unknown</td>\n",
       "    </tr>\n",
       "    <tr>\n",
       "      <th>4</th>\n",
       "      <td>A720371</td>\n",
       "      <td>Moose</td>\n",
       "      <td>2016-02-13 17:59:00</td>\n",
       "      <td>2016-02-13T17:59:00.000</td>\n",
       "      <td>2015-10-08T00:00:00.000</td>\n",
       "      <td>Adoption</td>\n",
       "      <td>Dog</td>\n",
       "      <td>Neutered Male</td>\n",
       "      <td>4 months</td>\n",
       "      <td>Anatol Shepherd/Labrador Retriever</td>\n",
       "      <td>Buff</td>\n",
       "      <td>NaN</td>\n",
       "      <td>4 months</td>\n",
       "      <td>Male</td>\n",
       "    </tr>\n",
       "  </tbody>\n",
       "</table>\n",
       "</div>"
      ],
      "text/plain": [
       "  animal_id       name            datetime                monthyear  \\\n",
       "0   A882831  *Hamilton 2023-07-01 18:12:00  2023-07-01T18:12:00.000   \n",
       "1   A794011      Chunk 2019-05-08 18:20:00  2019-05-08T18:20:00.000   \n",
       "2   A776359      Gizmo 2018-07-18 16:02:00  2018-07-18T16:02:00.000   \n",
       "3   A821648        NaN 2020-08-16 11:38:00  2020-08-16T11:38:00.000   \n",
       "4   A720371      Moose 2016-02-13 17:59:00  2016-02-13T17:59:00.000   \n",
       "\n",
       "             date_of_birth outcome_type animal_type sex_upon_outcome  \\\n",
       "0  2023-03-25T00:00:00.000     Adoption         Cat    Neutered Male   \n",
       "1  2017-05-02T00:00:00.000    Rto-Adopt         Cat    Neutered Male   \n",
       "2  2017-07-12T00:00:00.000     Adoption         Dog    Neutered Male   \n",
       "3  2019-08-16T00:00:00.000   Euthanasia       Other          Unknown   \n",
       "4  2015-10-08T00:00:00.000     Adoption         Dog    Neutered Male   \n",
       "\n",
       "  age_upon_outcome                               breed              color  \\\n",
       "0         3 months              Domestic Shorthair Mix        Black/White   \n",
       "1          2 years              Domestic Shorthair Mix  Brown Tabby/White   \n",
       "2           1 year             Chihuahua Shorthair Mix        White/Brown   \n",
       "3           1 year                             Raccoon               Gray   \n",
       "4         4 months  Anatol Shepherd/Labrador Retriever               Buff   \n",
       "\n",
       "  outcome_subtype  new_age1 new_sex1  \n",
       "0             NaN  3 months     Male  \n",
       "1             NaN   2 years     Male  \n",
       "2             NaN   1 years     Male  \n",
       "3             NaN   1 years  Unknown  \n",
       "4             NaN  4 months     Male  "
      ]
     },
     "execution_count": 33,
     "metadata": {},
     "output_type": "execute_result"
    }
   ],
   "source": [
    "# `animals` DataFrame is left untouched\n",
    "animals.head()"
   ]
  },
  {
   "cell_type": "code",
   "execution_count": 34,
   "metadata": {
    "hidden": true
   },
   "outputs": [
    {
     "data": {
      "text/html": [
       "<div>\n",
       "<style scoped>\n",
       "    .dataframe tbody tr th:only-of-type {\n",
       "        vertical-align: middle;\n",
       "    }\n",
       "\n",
       "    .dataframe tbody tr th {\n",
       "        vertical-align: top;\n",
       "    }\n",
       "\n",
       "    .dataframe thead th {\n",
       "        text-align: right;\n",
       "    }\n",
       "</style>\n",
       "<table border=\"1\" class=\"dataframe\">\n",
       "  <thead>\n",
       "    <tr style=\"text-align: right;\">\n",
       "      <th></th>\n",
       "      <th>name</th>\n",
       "    </tr>\n",
       "  </thead>\n",
       "  <tbody>\n",
       "    <tr>\n",
       "      <th>0</th>\n",
       "      <td>*Hamilton</td>\n",
       "    </tr>\n",
       "    <tr>\n",
       "      <th>1</th>\n",
       "      <td>Chunk</td>\n",
       "    </tr>\n",
       "    <tr>\n",
       "      <th>2</th>\n",
       "      <td>Gizmo</td>\n",
       "    </tr>\n",
       "    <tr>\n",
       "      <th>3</th>\n",
       "      <td>UNKNOWN</td>\n",
       "    </tr>\n",
       "    <tr>\n",
       "      <th>4</th>\n",
       "      <td>Moose</td>\n",
       "    </tr>\n",
       "  </tbody>\n",
       "</table>\n",
       "</div>"
      ],
      "text/plain": [
       "        name\n",
       "0  *Hamilton\n",
       "1      Chunk\n",
       "2      Gizmo\n",
       "3    UNKNOWN\n",
       "4      Moose"
      ]
     },
     "execution_count": 34,
     "metadata": {},
     "output_type": "execute_result"
    }
   ],
   "source": [
    "# Alternative way to fill missing values by specifying column(s) first\n",
    "animals_only_names = animals[['name']].fillna(value='UNKNOWN')\n",
    "animals_only_names.head()"
   ]
  },
  {
   "cell_type": "code",
   "execution_count": 35,
   "metadata": {
    "hidden": true
   },
   "outputs": [
    {
     "data": {
      "text/html": [
       "<div>\n",
       "<style scoped>\n",
       "    .dataframe tbody tr th:only-of-type {\n",
       "        vertical-align: middle;\n",
       "    }\n",
       "\n",
       "    .dataframe tbody tr th {\n",
       "        vertical-align: top;\n",
       "    }\n",
       "\n",
       "    .dataframe thead th {\n",
       "        text-align: right;\n",
       "    }\n",
       "</style>\n",
       "<table border=\"1\" class=\"dataframe\">\n",
       "  <thead>\n",
       "    <tr style=\"text-align: right;\">\n",
       "      <th></th>\n",
       "      <th>animal_id</th>\n",
       "      <th>name</th>\n",
       "      <th>datetime</th>\n",
       "      <th>monthyear</th>\n",
       "      <th>date_of_birth</th>\n",
       "      <th>outcome_type</th>\n",
       "      <th>animal_type</th>\n",
       "      <th>sex_upon_outcome</th>\n",
       "      <th>age_upon_outcome</th>\n",
       "      <th>breed</th>\n",
       "      <th>color</th>\n",
       "      <th>outcome_subtype</th>\n",
       "      <th>new_age1</th>\n",
       "      <th>new_sex1</th>\n",
       "    </tr>\n",
       "  </thead>\n",
       "  <tbody>\n",
       "    <tr>\n",
       "      <th>0</th>\n",
       "      <td>A882831</td>\n",
       "      <td>*Hamilton</td>\n",
       "      <td>2023-07-01 18:12:00</td>\n",
       "      <td>2023-07-01T18:12:00.000</td>\n",
       "      <td>2023-03-25T00:00:00.000</td>\n",
       "      <td>Adoption</td>\n",
       "      <td>Cat</td>\n",
       "      <td>Neutered Male</td>\n",
       "      <td>3 months</td>\n",
       "      <td>Domestic Shorthair Mix</td>\n",
       "      <td>Black/White</td>\n",
       "      <td>NaN</td>\n",
       "      <td>3 months</td>\n",
       "      <td>Male</td>\n",
       "    </tr>\n",
       "    <tr>\n",
       "      <th>1</th>\n",
       "      <td>A794011</td>\n",
       "      <td>Chunk</td>\n",
       "      <td>2019-05-08 18:20:00</td>\n",
       "      <td>2019-05-08T18:20:00.000</td>\n",
       "      <td>2017-05-02T00:00:00.000</td>\n",
       "      <td>Rto-Adopt</td>\n",
       "      <td>Cat</td>\n",
       "      <td>Neutered Male</td>\n",
       "      <td>2 years</td>\n",
       "      <td>Domestic Shorthair Mix</td>\n",
       "      <td>Brown Tabby/White</td>\n",
       "      <td>NaN</td>\n",
       "      <td>2 years</td>\n",
       "      <td>Male</td>\n",
       "    </tr>\n",
       "    <tr>\n",
       "      <th>2</th>\n",
       "      <td>A776359</td>\n",
       "      <td>Gizmo</td>\n",
       "      <td>2018-07-18 16:02:00</td>\n",
       "      <td>2018-07-18T16:02:00.000</td>\n",
       "      <td>2017-07-12T00:00:00.000</td>\n",
       "      <td>Adoption</td>\n",
       "      <td>Dog</td>\n",
       "      <td>Neutered Male</td>\n",
       "      <td>1 year</td>\n",
       "      <td>Chihuahua Shorthair Mix</td>\n",
       "      <td>White/Brown</td>\n",
       "      <td>NaN</td>\n",
       "      <td>1 years</td>\n",
       "      <td>Male</td>\n",
       "    </tr>\n",
       "    <tr>\n",
       "      <th>3</th>\n",
       "      <td>A821648</td>\n",
       "      <td>UNKNOWN</td>\n",
       "      <td>2020-08-16 11:38:00</td>\n",
       "      <td>2020-08-16T11:38:00.000</td>\n",
       "      <td>2019-08-16T00:00:00.000</td>\n",
       "      <td>Euthanasia</td>\n",
       "      <td>Other</td>\n",
       "      <td>Unknown</td>\n",
       "      <td>1 year</td>\n",
       "      <td>Raccoon</td>\n",
       "      <td>Gray</td>\n",
       "      <td>NaN</td>\n",
       "      <td>1 years</td>\n",
       "      <td>Unknown</td>\n",
       "    </tr>\n",
       "    <tr>\n",
       "      <th>4</th>\n",
       "      <td>A720371</td>\n",
       "      <td>Moose</td>\n",
       "      <td>2016-02-13 17:59:00</td>\n",
       "      <td>2016-02-13T17:59:00.000</td>\n",
       "      <td>2015-10-08T00:00:00.000</td>\n",
       "      <td>Adoption</td>\n",
       "      <td>Dog</td>\n",
       "      <td>Neutered Male</td>\n",
       "      <td>4 months</td>\n",
       "      <td>Anatol Shepherd/Labrador Retriever</td>\n",
       "      <td>Buff</td>\n",
       "      <td>NaN</td>\n",
       "      <td>4 months</td>\n",
       "      <td>Male</td>\n",
       "    </tr>\n",
       "  </tbody>\n",
       "</table>\n",
       "</div>"
      ],
      "text/plain": [
       "  animal_id       name            datetime                monthyear  \\\n",
       "0   A882831  *Hamilton 2023-07-01 18:12:00  2023-07-01T18:12:00.000   \n",
       "1   A794011      Chunk 2019-05-08 18:20:00  2019-05-08T18:20:00.000   \n",
       "2   A776359      Gizmo 2018-07-18 16:02:00  2018-07-18T16:02:00.000   \n",
       "3   A821648    UNKNOWN 2020-08-16 11:38:00  2020-08-16T11:38:00.000   \n",
       "4   A720371      Moose 2016-02-13 17:59:00  2016-02-13T17:59:00.000   \n",
       "\n",
       "             date_of_birth outcome_type animal_type sex_upon_outcome  \\\n",
       "0  2023-03-25T00:00:00.000     Adoption         Cat    Neutered Male   \n",
       "1  2017-05-02T00:00:00.000    Rto-Adopt         Cat    Neutered Male   \n",
       "2  2017-07-12T00:00:00.000     Adoption         Dog    Neutered Male   \n",
       "3  2019-08-16T00:00:00.000   Euthanasia       Other          Unknown   \n",
       "4  2015-10-08T00:00:00.000     Adoption         Dog    Neutered Male   \n",
       "\n",
       "  age_upon_outcome                               breed              color  \\\n",
       "0         3 months              Domestic Shorthair Mix        Black/White   \n",
       "1          2 years              Domestic Shorthair Mix  Brown Tabby/White   \n",
       "2           1 year             Chihuahua Shorthair Mix        White/Brown   \n",
       "3           1 year                             Raccoon               Gray   \n",
       "4         4 months  Anatol Shepherd/Labrador Retriever               Buff   \n",
       "\n",
       "  outcome_subtype  new_age1 new_sex1  \n",
       "0             NaN  3 months     Male  \n",
       "1             NaN   2 years     Male  \n",
       "2             NaN   1 years     Male  \n",
       "3             NaN   1 years  Unknown  \n",
       "4             NaN  4 months     Male  "
      ]
     },
     "execution_count": 35,
     "metadata": {},
     "output_type": "execute_result"
    }
   ],
   "source": [
    "# To keep changes in DataFrame, overwrite the column\n",
    "animals_clean[['name']] = animals_only_names\n",
    "animals_clean.head()"
   ]
  },
  {
   "cell_type": "markdown",
   "metadata": {
    "heading_collapsed": true,
    "hidden": true
   },
   "source": [
    "## Fill with a Reasonable Value"
   ]
  },
  {
   "cell_type": "markdown",
   "metadata": {
    "hidden": true
   },
   "source": [
    "Other times we don't know what the missing value was but we might have a reasonable guess. This allows us to still use the data point (row) in our analysis."
   ]
  },
  {
   "cell_type": "markdown",
   "metadata": {
    "hidden": true
   },
   "source": [
    "> Beware that filling in missing values can lead to you drawing incorrect conclusions. If most of the data from a column are missing, it's going to appear that the value you filled it in with is more common that it actually was!"
   ]
  },
  {
   "cell_type": "markdown",
   "metadata": {
    "hidden": true
   },
   "source": [
    "A lot of the time we'll use the _mean_ or _median_ for numerical values. Sometimes values like $0$ make sense since it might make sense in the context of how the data was collected.\n",
    "\n",
    "With categorical values, you might choose to fill the missing values with the most common value (the _mode_)."
   ]
  },
  {
   "cell_type": "markdown",
   "metadata": {
    "hidden": true
   },
   "source": [
    "> Similar to the previous subsection, we can use the `fillna()` method after specifying the value to fill"
   ]
  },
  {
   "cell_type": "code",
   "execution_count": 36,
   "metadata": {
    "hidden": true
   },
   "outputs": [
    {
     "data": {
      "text/plain": [
       "outcome_subtype\n",
       "Partner        216\n",
       "Foster         119\n",
       "Rabies Risk     27\n",
       "Snr             24\n",
       "Suffering       23\n",
       "SCRP            13\n",
       "In Kennel       12\n",
       "Out State        9\n",
       "Offsite          5\n",
       "Field            3\n",
       "Aggressive       2\n",
       "At Vet           1\n",
       "Underage         1\n",
       "Emergency        1\n",
       "Enroute          1\n",
       "Name: count, dtype: int64"
      ]
     },
     "execution_count": 36,
     "metadata": {},
     "output_type": "execute_result"
    }
   ],
   "source": [
    "## Let's find the most common value for `outcome_subtype`\n",
    "outcome_subtype_counts = animals['outcome_subtype'].value_counts()\n",
    "outcome_subtype_counts"
   ]
  },
  {
   "cell_type": "code",
   "execution_count": 37,
   "metadata": {
    "hidden": true
   },
   "outputs": [
    {
     "name": "stdout",
     "output_type": "stream",
     "text": [
      "Index(['Partner', 'Foster', 'Rabies Risk', 'Snr', 'Suffering', 'SCRP',\n",
      "       'In Kennel', 'Out State', 'Offsite', 'Field', 'Aggressive', 'At Vet',\n",
      "       'Underage', 'Emergency', 'Enroute'],\n",
      "      dtype='object', name='outcome_subtype')\n"
     ]
    }
   ],
   "source": [
    "# This gets us just the values in order of most frequent to least frequent\n",
    "outcome_subtype_ordered = outcome_subtype_counts.index\n",
    "print(outcome_subtype_ordered)\n",
    "\n",
    "# Get the first one\n",
    "most_common_outcome_subtype = outcome_subtype_ordered[0]"
   ]
  },
  {
   "cell_type": "code",
   "execution_count": 38,
   "metadata": {
    "hidden": true
   },
   "outputs": [
    {
     "data": {
      "text/plain": [
       "'Partner'"
      ]
     },
     "execution_count": 38,
     "metadata": {},
     "output_type": "execute_result"
    }
   ],
   "source": [
    "# Using the built-in mode() method\n",
    "# Note this is Series so we have to get the first element (which is the value)\n",
    "most_common_outcome_subtype = animals['outcome_subtype'].mode()[0]\n",
    "most_common_outcome_subtype"
   ]
  },
  {
   "cell_type": "code",
   "execution_count": 39,
   "metadata": {
    "hidden": true,
    "scrolled": true
   },
   "outputs": [
    {
     "data": {
      "text/html": [
       "<div>\n",
       "<style scoped>\n",
       "    .dataframe tbody tr th:only-of-type {\n",
       "        vertical-align: middle;\n",
       "    }\n",
       "\n",
       "    .dataframe tbody tr th {\n",
       "        vertical-align: top;\n",
       "    }\n",
       "\n",
       "    .dataframe thead th {\n",
       "        text-align: right;\n",
       "    }\n",
       "</style>\n",
       "<table border=\"1\" class=\"dataframe\">\n",
       "  <thead>\n",
       "    <tr style=\"text-align: right;\">\n",
       "      <th></th>\n",
       "      <th>animal_id</th>\n",
       "      <th>name</th>\n",
       "      <th>datetime</th>\n",
       "      <th>monthyear</th>\n",
       "      <th>date_of_birth</th>\n",
       "      <th>outcome_type</th>\n",
       "      <th>animal_type</th>\n",
       "      <th>sex_upon_outcome</th>\n",
       "      <th>age_upon_outcome</th>\n",
       "      <th>breed</th>\n",
       "      <th>color</th>\n",
       "      <th>outcome_subtype</th>\n",
       "      <th>new_age1</th>\n",
       "      <th>new_sex1</th>\n",
       "    </tr>\n",
       "  </thead>\n",
       "  <tbody>\n",
       "    <tr>\n",
       "      <th>0</th>\n",
       "      <td>A882831</td>\n",
       "      <td>*Hamilton</td>\n",
       "      <td>2023-07-01 18:12:00</td>\n",
       "      <td>2023-07-01T18:12:00.000</td>\n",
       "      <td>2023-03-25T00:00:00.000</td>\n",
       "      <td>Adoption</td>\n",
       "      <td>Cat</td>\n",
       "      <td>Neutered Male</td>\n",
       "      <td>3 months</td>\n",
       "      <td>Domestic Shorthair Mix</td>\n",
       "      <td>Black/White</td>\n",
       "      <td>Partner</td>\n",
       "      <td>3 months</td>\n",
       "      <td>Male</td>\n",
       "    </tr>\n",
       "    <tr>\n",
       "      <th>1</th>\n",
       "      <td>A794011</td>\n",
       "      <td>Chunk</td>\n",
       "      <td>2019-05-08 18:20:00</td>\n",
       "      <td>2019-05-08T18:20:00.000</td>\n",
       "      <td>2017-05-02T00:00:00.000</td>\n",
       "      <td>Rto-Adopt</td>\n",
       "      <td>Cat</td>\n",
       "      <td>Neutered Male</td>\n",
       "      <td>2 years</td>\n",
       "      <td>Domestic Shorthair Mix</td>\n",
       "      <td>Brown Tabby/White</td>\n",
       "      <td>Partner</td>\n",
       "      <td>2 years</td>\n",
       "      <td>Male</td>\n",
       "    </tr>\n",
       "    <tr>\n",
       "      <th>2</th>\n",
       "      <td>A776359</td>\n",
       "      <td>Gizmo</td>\n",
       "      <td>2018-07-18 16:02:00</td>\n",
       "      <td>2018-07-18T16:02:00.000</td>\n",
       "      <td>2017-07-12T00:00:00.000</td>\n",
       "      <td>Adoption</td>\n",
       "      <td>Dog</td>\n",
       "      <td>Neutered Male</td>\n",
       "      <td>1 year</td>\n",
       "      <td>Chihuahua Shorthair Mix</td>\n",
       "      <td>White/Brown</td>\n",
       "      <td>Partner</td>\n",
       "      <td>1 years</td>\n",
       "      <td>Male</td>\n",
       "    </tr>\n",
       "    <tr>\n",
       "      <th>3</th>\n",
       "      <td>A821648</td>\n",
       "      <td>UNKNOWN</td>\n",
       "      <td>2020-08-16 11:38:00</td>\n",
       "      <td>2020-08-16T11:38:00.000</td>\n",
       "      <td>2019-08-16T00:00:00.000</td>\n",
       "      <td>Euthanasia</td>\n",
       "      <td>Other</td>\n",
       "      <td>Unknown</td>\n",
       "      <td>1 year</td>\n",
       "      <td>Raccoon</td>\n",
       "      <td>Gray</td>\n",
       "      <td>Partner</td>\n",
       "      <td>1 years</td>\n",
       "      <td>Unknown</td>\n",
       "    </tr>\n",
       "    <tr>\n",
       "      <th>4</th>\n",
       "      <td>A720371</td>\n",
       "      <td>Moose</td>\n",
       "      <td>2016-02-13 17:59:00</td>\n",
       "      <td>2016-02-13T17:59:00.000</td>\n",
       "      <td>2015-10-08T00:00:00.000</td>\n",
       "      <td>Adoption</td>\n",
       "      <td>Dog</td>\n",
       "      <td>Neutered Male</td>\n",
       "      <td>4 months</td>\n",
       "      <td>Anatol Shepherd/Labrador Retriever</td>\n",
       "      <td>Buff</td>\n",
       "      <td>Partner</td>\n",
       "      <td>4 months</td>\n",
       "      <td>Male</td>\n",
       "    </tr>\n",
       "  </tbody>\n",
       "</table>\n",
       "</div>"
      ],
      "text/plain": [
       "  animal_id       name            datetime                monthyear  \\\n",
       "0   A882831  *Hamilton 2023-07-01 18:12:00  2023-07-01T18:12:00.000   \n",
       "1   A794011      Chunk 2019-05-08 18:20:00  2019-05-08T18:20:00.000   \n",
       "2   A776359      Gizmo 2018-07-18 16:02:00  2018-07-18T16:02:00.000   \n",
       "3   A821648    UNKNOWN 2020-08-16 11:38:00  2020-08-16T11:38:00.000   \n",
       "4   A720371      Moose 2016-02-13 17:59:00  2016-02-13T17:59:00.000   \n",
       "\n",
       "             date_of_birth outcome_type animal_type sex_upon_outcome  \\\n",
       "0  2023-03-25T00:00:00.000     Adoption         Cat    Neutered Male   \n",
       "1  2017-05-02T00:00:00.000    Rto-Adopt         Cat    Neutered Male   \n",
       "2  2017-07-12T00:00:00.000     Adoption         Dog    Neutered Male   \n",
       "3  2019-08-16T00:00:00.000   Euthanasia       Other          Unknown   \n",
       "4  2015-10-08T00:00:00.000     Adoption         Dog    Neutered Male   \n",
       "\n",
       "  age_upon_outcome                               breed              color  \\\n",
       "0         3 months              Domestic Shorthair Mix        Black/White   \n",
       "1          2 years              Domestic Shorthair Mix  Brown Tabby/White   \n",
       "2           1 year             Chihuahua Shorthair Mix        White/Brown   \n",
       "3           1 year                             Raccoon               Gray   \n",
       "4         4 months  Anatol Shepherd/Labrador Retriever               Buff   \n",
       "\n",
       "  outcome_subtype  new_age1 new_sex1  \n",
       "0         Partner  3 months     Male  \n",
       "1         Partner   2 years     Male  \n",
       "2         Partner   1 years     Male  \n",
       "3         Partner   1 years  Unknown  \n",
       "4         Partner  4 months     Male  "
      ]
     },
     "execution_count": 39,
     "metadata": {},
     "output_type": "execute_result"
    }
   ],
   "source": [
    "# Similar to the previous subsection, we can use fillna() and update the DF\n",
    "animals_clean['outcome_subtype'] = animals['outcome_subtype'].\\\n",
    "fillna(most_common_outcome_subtype)\n",
    "animals_clean.head()"
   ]
  },
  {
   "cell_type": "markdown",
   "metadata": {
    "heading_collapsed": true,
    "hidden": true
   },
   "source": [
    "## Specify That the Data Were Missing"
   ]
  },
  {
   "cell_type": "markdown",
   "metadata": {
    "hidden": true
   },
   "source": [
    "Even after filling in missing values, it might make sense to specify that there were missing data. You can document that the data was missing by creating a new column that represents whether the data was originally missing or not."
   ]
  },
  {
   "cell_type": "markdown",
   "metadata": {
    "hidden": true
   },
   "source": [
    "This can be helpful when you suspect that the fact the data was missing could be important for an analysis."
   ]
  },
  {
   "cell_type": "markdown",
   "metadata": {
    "hidden": true
   },
   "source": [
    "> Since we already removed some missing values, we're going to reference back to the original `animals` DataFrame. (Good thing we didn't overwrite it! 😉)"
   ]
  },
  {
   "cell_type": "code",
   "execution_count": 40,
   "metadata": {
    "hidden": true
   },
   "outputs": [
    {
     "data": {
      "text/plain": [
       "0       True\n",
       "1       True\n",
       "2       True\n",
       "3       True\n",
       "4       True\n",
       "       ...  \n",
       "995     True\n",
       "996    False\n",
       "997    False\n",
       "998     True\n",
       "999     True\n",
       "Name: outcome_subtype, Length: 1000, dtype: bool"
      ]
     },
     "execution_count": 40,
     "metadata": {},
     "output_type": "execute_result"
    }
   ],
   "source": [
    "# Let's specify which values were originally missing in \"outcome_subtype\"\n",
    "missing_outcome_subtypes = animals['outcome_subtype'].isna()\n",
    "missing_outcome_subtypes"
   ]
  },
  {
   "cell_type": "code",
   "execution_count": 42,
   "metadata": {
    "hidden": true
   },
   "outputs": [
    {
     "data": {
      "text/html": [
       "<div>\n",
       "<style scoped>\n",
       "    .dataframe tbody tr th:only-of-type {\n",
       "        vertical-align: middle;\n",
       "    }\n",
       "\n",
       "    .dataframe tbody tr th {\n",
       "        vertical-align: top;\n",
       "    }\n",
       "\n",
       "    .dataframe thead th {\n",
       "        text-align: right;\n",
       "    }\n",
       "</style>\n",
       "<table border=\"1\" class=\"dataframe\">\n",
       "  <thead>\n",
       "    <tr style=\"text-align: right;\">\n",
       "      <th></th>\n",
       "      <th>animal_id</th>\n",
       "      <th>name</th>\n",
       "      <th>datetime</th>\n",
       "      <th>monthyear</th>\n",
       "      <th>date_of_birth</th>\n",
       "      <th>outcome_type</th>\n",
       "      <th>animal_type</th>\n",
       "      <th>sex_upon_outcome</th>\n",
       "      <th>age_upon_outcome</th>\n",
       "      <th>breed</th>\n",
       "      <th>color</th>\n",
       "      <th>outcome_subtype</th>\n",
       "      <th>new_age1</th>\n",
       "      <th>new_sex1</th>\n",
       "      <th>outcome_subtype_missing</th>\n",
       "    </tr>\n",
       "  </thead>\n",
       "  <tbody>\n",
       "    <tr>\n",
       "      <th>995</th>\n",
       "      <td>A850162</td>\n",
       "      <td>*Angelina Purrline</td>\n",
       "      <td>2022-01-25 16:35:00</td>\n",
       "      <td>2022-01-25T16:35:00.000</td>\n",
       "      <td>2021-01-19T00:00:00.000</td>\n",
       "      <td>Adoption</td>\n",
       "      <td>Cat</td>\n",
       "      <td>Spayed Female</td>\n",
       "      <td>1 year</td>\n",
       "      <td>Domestic Medium Hair</td>\n",
       "      <td>Brown Tabby/White</td>\n",
       "      <td>Partner</td>\n",
       "      <td>1 years</td>\n",
       "      <td>Female</td>\n",
       "      <td>True</td>\n",
       "    </tr>\n",
       "    <tr>\n",
       "      <th>996</th>\n",
       "      <td>A808227</td>\n",
       "      <td>*Romano</td>\n",
       "      <td>2019-12-03 14:26:00</td>\n",
       "      <td>2019-12-03T14:26:00.000</td>\n",
       "      <td>2018-05-06T00:00:00.000</td>\n",
       "      <td>Transfer</td>\n",
       "      <td>Dog</td>\n",
       "      <td>Intact Male</td>\n",
       "      <td>1 year</td>\n",
       "      <td>Dalmatian Mix</td>\n",
       "      <td>White/Black</td>\n",
       "      <td>Partner</td>\n",
       "      <td>1 years</td>\n",
       "      <td>Male</td>\n",
       "      <td>False</td>\n",
       "    </tr>\n",
       "    <tr>\n",
       "      <th>997</th>\n",
       "      <td>A758739</td>\n",
       "      <td>UNKNOWN</td>\n",
       "      <td>2017-09-28 18:38:00</td>\n",
       "      <td>2017-09-28T18:38:00.000</td>\n",
       "      <td>2015-09-21T00:00:00.000</td>\n",
       "      <td>Transfer</td>\n",
       "      <td>Cat</td>\n",
       "      <td>Unknown</td>\n",
       "      <td>2 years</td>\n",
       "      <td>Domestic Shorthair Mix</td>\n",
       "      <td>Brown Tabby/White</td>\n",
       "      <td>Snr</td>\n",
       "      <td>2 years</td>\n",
       "      <td>Unknown</td>\n",
       "      <td>False</td>\n",
       "    </tr>\n",
       "    <tr>\n",
       "      <th>998</th>\n",
       "      <td>A729191</td>\n",
       "      <td>*Mr. Jones</td>\n",
       "      <td>2016-07-17 17:13:00</td>\n",
       "      <td>2016-07-17T17:13:00.000</td>\n",
       "      <td>2016-05-14T00:00:00.000</td>\n",
       "      <td>Adoption</td>\n",
       "      <td>Cat</td>\n",
       "      <td>Neutered Male</td>\n",
       "      <td>2 months</td>\n",
       "      <td>Domestic Shorthair Mix</td>\n",
       "      <td>Brown Tabby</td>\n",
       "      <td>Partner</td>\n",
       "      <td>2 months</td>\n",
       "      <td>Male</td>\n",
       "      <td>True</td>\n",
       "    </tr>\n",
       "    <tr>\n",
       "      <th>999</th>\n",
       "      <td>A695215</td>\n",
       "      <td>*August</td>\n",
       "      <td>2015-08-01 12:30:00</td>\n",
       "      <td>2015-08-01T12:30:00.000</td>\n",
       "      <td>2013-01-11T00:00:00.000</td>\n",
       "      <td>Adoption</td>\n",
       "      <td>Dog</td>\n",
       "      <td>Neutered Male</td>\n",
       "      <td>2 years</td>\n",
       "      <td>Pit Bull Mix</td>\n",
       "      <td>Blue/White</td>\n",
       "      <td>Partner</td>\n",
       "      <td>2 years</td>\n",
       "      <td>Male</td>\n",
       "      <td>True</td>\n",
       "    </tr>\n",
       "  </tbody>\n",
       "</table>\n",
       "</div>"
      ],
      "text/plain": [
       "    animal_id                name            datetime  \\\n",
       "995   A850162  *Angelina Purrline 2022-01-25 16:35:00   \n",
       "996   A808227             *Romano 2019-12-03 14:26:00   \n",
       "997   A758739             UNKNOWN 2017-09-28 18:38:00   \n",
       "998   A729191          *Mr. Jones 2016-07-17 17:13:00   \n",
       "999   A695215             *August 2015-08-01 12:30:00   \n",
       "\n",
       "                   monthyear            date_of_birth outcome_type  \\\n",
       "995  2022-01-25T16:35:00.000  2021-01-19T00:00:00.000     Adoption   \n",
       "996  2019-12-03T14:26:00.000  2018-05-06T00:00:00.000     Transfer   \n",
       "997  2017-09-28T18:38:00.000  2015-09-21T00:00:00.000     Transfer   \n",
       "998  2016-07-17T17:13:00.000  2016-05-14T00:00:00.000     Adoption   \n",
       "999  2015-08-01T12:30:00.000  2013-01-11T00:00:00.000     Adoption   \n",
       "\n",
       "    animal_type sex_upon_outcome age_upon_outcome                   breed  \\\n",
       "995         Cat    Spayed Female           1 year    Domestic Medium Hair   \n",
       "996         Dog      Intact Male           1 year           Dalmatian Mix   \n",
       "997         Cat          Unknown          2 years  Domestic Shorthair Mix   \n",
       "998         Cat    Neutered Male         2 months  Domestic Shorthair Mix   \n",
       "999         Dog    Neutered Male          2 years            Pit Bull Mix   \n",
       "\n",
       "                 color outcome_subtype  new_age1 new_sex1  \\\n",
       "995  Brown Tabby/White         Partner   1 years   Female   \n",
       "996        White/Black         Partner   1 years     Male   \n",
       "997  Brown Tabby/White             Snr   2 years  Unknown   \n",
       "998        Brown Tabby         Partner  2 months     Male   \n",
       "999         Blue/White         Partner   2 years     Male   \n",
       "\n",
       "     outcome_subtype_missing  \n",
       "995                     True  \n",
       "996                    False  \n",
       "997                    False  \n",
       "998                     True  \n",
       "999                     True  "
      ]
     },
     "execution_count": 42,
     "metadata": {},
     "output_type": "execute_result"
    }
   ],
   "source": [
    "# Create new column for missing outcome subtypes matched w/ replaced values\n",
    "animals_clean['outcome_subtype_missing'] = missing_outcome_subtypes\n",
    "animals_clean.tail()"
   ]
  },
  {
   "cell_type": "markdown",
   "metadata": {
    "heading_collapsed": true,
    "hidden": true
   },
   "source": [
    "## Drop Missing Data"
   ]
  },
  {
   "cell_type": "markdown",
   "metadata": {
    "hidden": true
   },
   "source": [
    "You should try to keep as much relevant data as possible, but sometimes the other methods don't make as much sense and it's better to remove or **drop** the missing data."
   ]
  },
  {
   "cell_type": "markdown",
   "metadata": {
    "hidden": true
   },
   "source": [
    "We typically drop missing data if very little data would be lost and/or trying to fill in the values wouldn't make sense for our use case. For example, if you're trying to predict the outcome based on the other features/columns it might not make sense to fill in those missing values with something you can't confirm."
   ]
  },
  {
   "cell_type": "markdown",
   "metadata": {
    "hidden": true
   },
   "source": [
    "> We noticed that `outcome_type` had only two missing values. It might not be worth trying to handle those two missing values. We can pretend that the `outcome_type` was an important feature and without it the rest of the row's data is of little importance to us.\n",
    ">\n",
    "> So we'll decide to drop the row if a value from `outcome_type` is missing. We'll use Pandas' [`dropna()` method](https://pandas.pydata.org/pandas-docs/stable/reference/api/pandas.DataFrame.dropna.html)."
   ]
  },
  {
   "cell_type": "code",
   "execution_count": 43,
   "metadata": {
    "hidden": true
   },
   "outputs": [
    {
     "data": {
      "text/html": [
       "<div>\n",
       "<style scoped>\n",
       "    .dataframe tbody tr th:only-of-type {\n",
       "        vertical-align: middle;\n",
       "    }\n",
       "\n",
       "    .dataframe tbody tr th {\n",
       "        vertical-align: top;\n",
       "    }\n",
       "\n",
       "    .dataframe thead th {\n",
       "        text-align: right;\n",
       "    }\n",
       "</style>\n",
       "<table border=\"1\" class=\"dataframe\">\n",
       "  <thead>\n",
       "    <tr style=\"text-align: right;\">\n",
       "      <th></th>\n",
       "      <th>animal_id</th>\n",
       "      <th>name</th>\n",
       "      <th>datetime</th>\n",
       "      <th>monthyear</th>\n",
       "      <th>date_of_birth</th>\n",
       "      <th>outcome_type</th>\n",
       "      <th>animal_type</th>\n",
       "      <th>sex_upon_outcome</th>\n",
       "      <th>age_upon_outcome</th>\n",
       "      <th>breed</th>\n",
       "      <th>color</th>\n",
       "      <th>outcome_subtype</th>\n",
       "      <th>new_age1</th>\n",
       "      <th>new_sex1</th>\n",
       "      <th>outcome_subtype_missing</th>\n",
       "    </tr>\n",
       "  </thead>\n",
       "  <tbody>\n",
       "    <tr>\n",
       "      <th>0</th>\n",
       "      <td>A882831</td>\n",
       "      <td>*Hamilton</td>\n",
       "      <td>2023-07-01 18:12:00</td>\n",
       "      <td>2023-07-01T18:12:00.000</td>\n",
       "      <td>2023-03-25T00:00:00.000</td>\n",
       "      <td>Adoption</td>\n",
       "      <td>Cat</td>\n",
       "      <td>Neutered Male</td>\n",
       "      <td>3 months</td>\n",
       "      <td>Domestic Shorthair Mix</td>\n",
       "      <td>Black/White</td>\n",
       "      <td>Partner</td>\n",
       "      <td>3 months</td>\n",
       "      <td>Male</td>\n",
       "      <td>True</td>\n",
       "    </tr>\n",
       "    <tr>\n",
       "      <th>1</th>\n",
       "      <td>A794011</td>\n",
       "      <td>Chunk</td>\n",
       "      <td>2019-05-08 18:20:00</td>\n",
       "      <td>2019-05-08T18:20:00.000</td>\n",
       "      <td>2017-05-02T00:00:00.000</td>\n",
       "      <td>Rto-Adopt</td>\n",
       "      <td>Cat</td>\n",
       "      <td>Neutered Male</td>\n",
       "      <td>2 years</td>\n",
       "      <td>Domestic Shorthair Mix</td>\n",
       "      <td>Brown Tabby/White</td>\n",
       "      <td>Partner</td>\n",
       "      <td>2 years</td>\n",
       "      <td>Male</td>\n",
       "      <td>True</td>\n",
       "    </tr>\n",
       "    <tr>\n",
       "      <th>2</th>\n",
       "      <td>A776359</td>\n",
       "      <td>Gizmo</td>\n",
       "      <td>2018-07-18 16:02:00</td>\n",
       "      <td>2018-07-18T16:02:00.000</td>\n",
       "      <td>2017-07-12T00:00:00.000</td>\n",
       "      <td>Adoption</td>\n",
       "      <td>Dog</td>\n",
       "      <td>Neutered Male</td>\n",
       "      <td>1 year</td>\n",
       "      <td>Chihuahua Shorthair Mix</td>\n",
       "      <td>White/Brown</td>\n",
       "      <td>Partner</td>\n",
       "      <td>1 years</td>\n",
       "      <td>Male</td>\n",
       "      <td>True</td>\n",
       "    </tr>\n",
       "    <tr>\n",
       "      <th>3</th>\n",
       "      <td>A821648</td>\n",
       "      <td>UNKNOWN</td>\n",
       "      <td>2020-08-16 11:38:00</td>\n",
       "      <td>2020-08-16T11:38:00.000</td>\n",
       "      <td>2019-08-16T00:00:00.000</td>\n",
       "      <td>Euthanasia</td>\n",
       "      <td>Other</td>\n",
       "      <td>Unknown</td>\n",
       "      <td>1 year</td>\n",
       "      <td>Raccoon</td>\n",
       "      <td>Gray</td>\n",
       "      <td>Partner</td>\n",
       "      <td>1 years</td>\n",
       "      <td>Unknown</td>\n",
       "      <td>True</td>\n",
       "    </tr>\n",
       "    <tr>\n",
       "      <th>4</th>\n",
       "      <td>A720371</td>\n",
       "      <td>Moose</td>\n",
       "      <td>2016-02-13 17:59:00</td>\n",
       "      <td>2016-02-13T17:59:00.000</td>\n",
       "      <td>2015-10-08T00:00:00.000</td>\n",
       "      <td>Adoption</td>\n",
       "      <td>Dog</td>\n",
       "      <td>Neutered Male</td>\n",
       "      <td>4 months</td>\n",
       "      <td>Anatol Shepherd/Labrador Retriever</td>\n",
       "      <td>Buff</td>\n",
       "      <td>Partner</td>\n",
       "      <td>4 months</td>\n",
       "      <td>Male</td>\n",
       "      <td>True</td>\n",
       "    </tr>\n",
       "  </tbody>\n",
       "</table>\n",
       "</div>"
      ],
      "text/plain": [
       "  animal_id       name            datetime                monthyear  \\\n",
       "0   A882831  *Hamilton 2023-07-01 18:12:00  2023-07-01T18:12:00.000   \n",
       "1   A794011      Chunk 2019-05-08 18:20:00  2019-05-08T18:20:00.000   \n",
       "2   A776359      Gizmo 2018-07-18 16:02:00  2018-07-18T16:02:00.000   \n",
       "3   A821648    UNKNOWN 2020-08-16 11:38:00  2020-08-16T11:38:00.000   \n",
       "4   A720371      Moose 2016-02-13 17:59:00  2016-02-13T17:59:00.000   \n",
       "\n",
       "             date_of_birth outcome_type animal_type sex_upon_outcome  \\\n",
       "0  2023-03-25T00:00:00.000     Adoption         Cat    Neutered Male   \n",
       "1  2017-05-02T00:00:00.000    Rto-Adopt         Cat    Neutered Male   \n",
       "2  2017-07-12T00:00:00.000     Adoption         Dog    Neutered Male   \n",
       "3  2019-08-16T00:00:00.000   Euthanasia       Other          Unknown   \n",
       "4  2015-10-08T00:00:00.000     Adoption         Dog    Neutered Male   \n",
       "\n",
       "  age_upon_outcome                               breed              color  \\\n",
       "0         3 months              Domestic Shorthair Mix        Black/White   \n",
       "1          2 years              Domestic Shorthair Mix  Brown Tabby/White   \n",
       "2           1 year             Chihuahua Shorthair Mix        White/Brown   \n",
       "3           1 year                             Raccoon               Gray   \n",
       "4         4 months  Anatol Shepherd/Labrador Retriever               Buff   \n",
       "\n",
       "  outcome_subtype  new_age1 new_sex1  outcome_subtype_missing  \n",
       "0         Partner  3 months     Male                     True  \n",
       "1         Partner   2 years     Male                     True  \n",
       "2         Partner   1 years     Male                     True  \n",
       "3         Partner   1 years  Unknown                     True  \n",
       "4         Partner  4 months     Male                     True  "
      ]
     },
     "execution_count": 43,
     "metadata": {},
     "output_type": "execute_result"
    }
   ],
   "source": [
    "# This will drop any row (axis=0) or column (axis=1) that has missing values\n",
    "animals_clean = animals_clean.dropna(   # Note we're overwriting animals_clean\n",
    "                                axis=0, # This is the default & will drop rows; axis=1 for cols\n",
    "                                subset=['outcome_type'] # Specific labels to consider (defaults to all)\n",
    ")\n",
    "animals_clean.head()"
   ]
  },
  {
   "cell_type": "markdown",
   "metadata": {
    "heading_collapsed": true,
    "hidden": true
   },
   "source": [
    "## Comparing Before and After"
   ]
  },
  {
   "cell_type": "markdown",
   "metadata": {
    "hidden": true
   },
   "source": [
    "We can now see all the work we did!"
   ]
  },
  {
   "cell_type": "code",
   "execution_count": 44,
   "metadata": {
    "hidden": true
   },
   "outputs": [
    {
     "name": "stdout",
     "output_type": "stream",
     "text": [
      "<class 'pandas.core.frame.DataFrame'>\n",
      "RangeIndex: 1000 entries, 0 to 999\n",
      "Data columns (total 14 columns):\n",
      " #   Column            Non-Null Count  Dtype         \n",
      "---  ------            --------------  -----         \n",
      " 0   animal_id         1000 non-null   object        \n",
      " 1   name              739 non-null    object        \n",
      " 2   datetime          1000 non-null   datetime64[ns]\n",
      " 3   monthyear         1000 non-null   object        \n",
      " 4   date_of_birth     1000 non-null   object        \n",
      " 5   outcome_type      1000 non-null   object        \n",
      " 6   animal_type       1000 non-null   object        \n",
      " 7   sex_upon_outcome  1000 non-null   object        \n",
      " 8   age_upon_outcome  1000 non-null   object        \n",
      " 9   breed             1000 non-null   object        \n",
      " 10  color             1000 non-null   object        \n",
      " 11  outcome_subtype   457 non-null    object        \n",
      " 12  new_age1          1000 non-null   object        \n",
      " 13  new_sex1          1000 non-null   object        \n",
      "dtypes: datetime64[ns](1), object(13)\n",
      "memory usage: 109.5+ KB\n"
     ]
    }
   ],
   "source": [
    "# Original data\n",
    "animals.info()"
   ]
  },
  {
   "cell_type": "code",
   "execution_count": 45,
   "metadata": {
    "hidden": true
   },
   "outputs": [
    {
     "name": "stdout",
     "output_type": "stream",
     "text": [
      "<class 'pandas.core.frame.DataFrame'>\n",
      "RangeIndex: 1000 entries, 0 to 999\n",
      "Data columns (total 15 columns):\n",
      " #   Column                   Non-Null Count  Dtype         \n",
      "---  ------                   --------------  -----         \n",
      " 0   animal_id                1000 non-null   object        \n",
      " 1   name                     1000 non-null   object        \n",
      " 2   datetime                 1000 non-null   datetime64[ns]\n",
      " 3   monthyear                1000 non-null   object        \n",
      " 4   date_of_birth            1000 non-null   object        \n",
      " 5   outcome_type             1000 non-null   object        \n",
      " 6   animal_type              1000 non-null   object        \n",
      " 7   sex_upon_outcome         1000 non-null   object        \n",
      " 8   age_upon_outcome         1000 non-null   object        \n",
      " 9   breed                    1000 non-null   object        \n",
      " 10  color                    1000 non-null   object        \n",
      " 11  outcome_subtype          1000 non-null   object        \n",
      " 12  new_age1                 1000 non-null   object        \n",
      " 13  new_sex1                 1000 non-null   object        \n",
      " 14  outcome_subtype_missing  1000 non-null   bool          \n",
      "dtypes: bool(1), datetime64[ns](1), object(13)\n",
      "memory usage: 110.5+ KB\n"
     ]
    }
   ],
   "source": [
    "# Missing data cleaned\n",
    "animals_clean.info()"
   ]
  },
  {
   "cell_type": "markdown",
   "metadata": {
    "heading_collapsed": true
   },
   "source": [
    "# Level Up: `.applymap()`"
   ]
  },
  {
   "cell_type": "markdown",
   "metadata": {
    "hidden": true
   },
   "source": [
    "`.applymap()` is used to apply a transformation to each element of a DataFrame."
   ]
  },
  {
   "cell_type": "code",
   "execution_count": 47,
   "metadata": {
    "hidden": true,
    "scrolled": true
   },
   "outputs": [
    {
     "data": {
      "text/html": [
       "<div>\n",
       "<style scoped>\n",
       "    .dataframe tbody tr th:only-of-type {\n",
       "        vertical-align: middle;\n",
       "    }\n",
       "\n",
       "    .dataframe tbody tr th {\n",
       "        vertical-align: top;\n",
       "    }\n",
       "\n",
       "    .dataframe thead th {\n",
       "        text-align: right;\n",
       "    }\n",
       "</style>\n",
       "<table border=\"1\" class=\"dataframe\">\n",
       "  <thead>\n",
       "    <tr style=\"text-align: right;\">\n",
       "      <th></th>\n",
       "      <th>animal_id</th>\n",
       "      <th>name</th>\n",
       "      <th>datetime</th>\n",
       "      <th>monthyear</th>\n",
       "      <th>date_of_birth</th>\n",
       "      <th>outcome_type</th>\n",
       "      <th>animal_type</th>\n",
       "      <th>sex_upon_outcome</th>\n",
       "      <th>age_upon_outcome</th>\n",
       "      <th>breed</th>\n",
       "      <th>color</th>\n",
       "      <th>outcome_subtype</th>\n",
       "      <th>new_age1</th>\n",
       "      <th>new_sex1</th>\n",
       "    </tr>\n",
       "  </thead>\n",
       "  <tbody>\n",
       "    <tr>\n",
       "      <th>0</th>\n",
       "      <td>&lt;class 'str'&gt;</td>\n",
       "      <td>&lt;class 'str'&gt;</td>\n",
       "      <td>&lt;class 'pandas._libs.tslibs.timestamps.Timesta...</td>\n",
       "      <td>&lt;class 'str'&gt;</td>\n",
       "      <td>&lt;class 'str'&gt;</td>\n",
       "      <td>&lt;class 'str'&gt;</td>\n",
       "      <td>&lt;class 'str'&gt;</td>\n",
       "      <td>&lt;class 'str'&gt;</td>\n",
       "      <td>&lt;class 'str'&gt;</td>\n",
       "      <td>&lt;class 'str'&gt;</td>\n",
       "      <td>&lt;class 'str'&gt;</td>\n",
       "      <td>&lt;class 'float'&gt;</td>\n",
       "      <td>&lt;class 'str'&gt;</td>\n",
       "      <td>&lt;class 'str'&gt;</td>\n",
       "    </tr>\n",
       "    <tr>\n",
       "      <th>1</th>\n",
       "      <td>&lt;class 'str'&gt;</td>\n",
       "      <td>&lt;class 'str'&gt;</td>\n",
       "      <td>&lt;class 'pandas._libs.tslibs.timestamps.Timesta...</td>\n",
       "      <td>&lt;class 'str'&gt;</td>\n",
       "      <td>&lt;class 'str'&gt;</td>\n",
       "      <td>&lt;class 'str'&gt;</td>\n",
       "      <td>&lt;class 'str'&gt;</td>\n",
       "      <td>&lt;class 'str'&gt;</td>\n",
       "      <td>&lt;class 'str'&gt;</td>\n",
       "      <td>&lt;class 'str'&gt;</td>\n",
       "      <td>&lt;class 'str'&gt;</td>\n",
       "      <td>&lt;class 'float'&gt;</td>\n",
       "      <td>&lt;class 'str'&gt;</td>\n",
       "      <td>&lt;class 'str'&gt;</td>\n",
       "    </tr>\n",
       "    <tr>\n",
       "      <th>2</th>\n",
       "      <td>&lt;class 'str'&gt;</td>\n",
       "      <td>&lt;class 'str'&gt;</td>\n",
       "      <td>&lt;class 'pandas._libs.tslibs.timestamps.Timesta...</td>\n",
       "      <td>&lt;class 'str'&gt;</td>\n",
       "      <td>&lt;class 'str'&gt;</td>\n",
       "      <td>&lt;class 'str'&gt;</td>\n",
       "      <td>&lt;class 'str'&gt;</td>\n",
       "      <td>&lt;class 'str'&gt;</td>\n",
       "      <td>&lt;class 'str'&gt;</td>\n",
       "      <td>&lt;class 'str'&gt;</td>\n",
       "      <td>&lt;class 'str'&gt;</td>\n",
       "      <td>&lt;class 'float'&gt;</td>\n",
       "      <td>&lt;class 'str'&gt;</td>\n",
       "      <td>&lt;class 'str'&gt;</td>\n",
       "    </tr>\n",
       "    <tr>\n",
       "      <th>3</th>\n",
       "      <td>&lt;class 'str'&gt;</td>\n",
       "      <td>&lt;class 'float'&gt;</td>\n",
       "      <td>&lt;class 'pandas._libs.tslibs.timestamps.Timesta...</td>\n",
       "      <td>&lt;class 'str'&gt;</td>\n",
       "      <td>&lt;class 'str'&gt;</td>\n",
       "      <td>&lt;class 'str'&gt;</td>\n",
       "      <td>&lt;class 'str'&gt;</td>\n",
       "      <td>&lt;class 'str'&gt;</td>\n",
       "      <td>&lt;class 'str'&gt;</td>\n",
       "      <td>&lt;class 'str'&gt;</td>\n",
       "      <td>&lt;class 'str'&gt;</td>\n",
       "      <td>&lt;class 'float'&gt;</td>\n",
       "      <td>&lt;class 'str'&gt;</td>\n",
       "      <td>&lt;class 'str'&gt;</td>\n",
       "    </tr>\n",
       "    <tr>\n",
       "      <th>4</th>\n",
       "      <td>&lt;class 'str'&gt;</td>\n",
       "      <td>&lt;class 'str'&gt;</td>\n",
       "      <td>&lt;class 'pandas._libs.tslibs.timestamps.Timesta...</td>\n",
       "      <td>&lt;class 'str'&gt;</td>\n",
       "      <td>&lt;class 'str'&gt;</td>\n",
       "      <td>&lt;class 'str'&gt;</td>\n",
       "      <td>&lt;class 'str'&gt;</td>\n",
       "      <td>&lt;class 'str'&gt;</td>\n",
       "      <td>&lt;class 'str'&gt;</td>\n",
       "      <td>&lt;class 'str'&gt;</td>\n",
       "      <td>&lt;class 'str'&gt;</td>\n",
       "      <td>&lt;class 'float'&gt;</td>\n",
       "      <td>&lt;class 'str'&gt;</td>\n",
       "      <td>&lt;class 'str'&gt;</td>\n",
       "    </tr>\n",
       "    <tr>\n",
       "      <th>...</th>\n",
       "      <td>...</td>\n",
       "      <td>...</td>\n",
       "      <td>...</td>\n",
       "      <td>...</td>\n",
       "      <td>...</td>\n",
       "      <td>...</td>\n",
       "      <td>...</td>\n",
       "      <td>...</td>\n",
       "      <td>...</td>\n",
       "      <td>...</td>\n",
       "      <td>...</td>\n",
       "      <td>...</td>\n",
       "      <td>...</td>\n",
       "      <td>...</td>\n",
       "    </tr>\n",
       "    <tr>\n",
       "      <th>995</th>\n",
       "      <td>&lt;class 'str'&gt;</td>\n",
       "      <td>&lt;class 'str'&gt;</td>\n",
       "      <td>&lt;class 'pandas._libs.tslibs.timestamps.Timesta...</td>\n",
       "      <td>&lt;class 'str'&gt;</td>\n",
       "      <td>&lt;class 'str'&gt;</td>\n",
       "      <td>&lt;class 'str'&gt;</td>\n",
       "      <td>&lt;class 'str'&gt;</td>\n",
       "      <td>&lt;class 'str'&gt;</td>\n",
       "      <td>&lt;class 'str'&gt;</td>\n",
       "      <td>&lt;class 'str'&gt;</td>\n",
       "      <td>&lt;class 'str'&gt;</td>\n",
       "      <td>&lt;class 'float'&gt;</td>\n",
       "      <td>&lt;class 'str'&gt;</td>\n",
       "      <td>&lt;class 'str'&gt;</td>\n",
       "    </tr>\n",
       "    <tr>\n",
       "      <th>996</th>\n",
       "      <td>&lt;class 'str'&gt;</td>\n",
       "      <td>&lt;class 'str'&gt;</td>\n",
       "      <td>&lt;class 'pandas._libs.tslibs.timestamps.Timesta...</td>\n",
       "      <td>&lt;class 'str'&gt;</td>\n",
       "      <td>&lt;class 'str'&gt;</td>\n",
       "      <td>&lt;class 'str'&gt;</td>\n",
       "      <td>&lt;class 'str'&gt;</td>\n",
       "      <td>&lt;class 'str'&gt;</td>\n",
       "      <td>&lt;class 'str'&gt;</td>\n",
       "      <td>&lt;class 'str'&gt;</td>\n",
       "      <td>&lt;class 'str'&gt;</td>\n",
       "      <td>&lt;class 'str'&gt;</td>\n",
       "      <td>&lt;class 'str'&gt;</td>\n",
       "      <td>&lt;class 'str'&gt;</td>\n",
       "    </tr>\n",
       "    <tr>\n",
       "      <th>997</th>\n",
       "      <td>&lt;class 'str'&gt;</td>\n",
       "      <td>&lt;class 'float'&gt;</td>\n",
       "      <td>&lt;class 'pandas._libs.tslibs.timestamps.Timesta...</td>\n",
       "      <td>&lt;class 'str'&gt;</td>\n",
       "      <td>&lt;class 'str'&gt;</td>\n",
       "      <td>&lt;class 'str'&gt;</td>\n",
       "      <td>&lt;class 'str'&gt;</td>\n",
       "      <td>&lt;class 'str'&gt;</td>\n",
       "      <td>&lt;class 'str'&gt;</td>\n",
       "      <td>&lt;class 'str'&gt;</td>\n",
       "      <td>&lt;class 'str'&gt;</td>\n",
       "      <td>&lt;class 'str'&gt;</td>\n",
       "      <td>&lt;class 'str'&gt;</td>\n",
       "      <td>&lt;class 'str'&gt;</td>\n",
       "    </tr>\n",
       "    <tr>\n",
       "      <th>998</th>\n",
       "      <td>&lt;class 'str'&gt;</td>\n",
       "      <td>&lt;class 'str'&gt;</td>\n",
       "      <td>&lt;class 'pandas._libs.tslibs.timestamps.Timesta...</td>\n",
       "      <td>&lt;class 'str'&gt;</td>\n",
       "      <td>&lt;class 'str'&gt;</td>\n",
       "      <td>&lt;class 'str'&gt;</td>\n",
       "      <td>&lt;class 'str'&gt;</td>\n",
       "      <td>&lt;class 'str'&gt;</td>\n",
       "      <td>&lt;class 'str'&gt;</td>\n",
       "      <td>&lt;class 'str'&gt;</td>\n",
       "      <td>&lt;class 'str'&gt;</td>\n",
       "      <td>&lt;class 'float'&gt;</td>\n",
       "      <td>&lt;class 'str'&gt;</td>\n",
       "      <td>&lt;class 'str'&gt;</td>\n",
       "    </tr>\n",
       "    <tr>\n",
       "      <th>999</th>\n",
       "      <td>&lt;class 'str'&gt;</td>\n",
       "      <td>&lt;class 'str'&gt;</td>\n",
       "      <td>&lt;class 'pandas._libs.tslibs.timestamps.Timesta...</td>\n",
       "      <td>&lt;class 'str'&gt;</td>\n",
       "      <td>&lt;class 'str'&gt;</td>\n",
       "      <td>&lt;class 'str'&gt;</td>\n",
       "      <td>&lt;class 'str'&gt;</td>\n",
       "      <td>&lt;class 'str'&gt;</td>\n",
       "      <td>&lt;class 'str'&gt;</td>\n",
       "      <td>&lt;class 'str'&gt;</td>\n",
       "      <td>&lt;class 'str'&gt;</td>\n",
       "      <td>&lt;class 'float'&gt;</td>\n",
       "      <td>&lt;class 'str'&gt;</td>\n",
       "      <td>&lt;class 'str'&gt;</td>\n",
       "    </tr>\n",
       "  </tbody>\n",
       "</table>\n",
       "<p>1000 rows × 14 columns</p>\n",
       "</div>"
      ],
      "text/plain": [
       "         animal_id             name  \\\n",
       "0    <class 'str'>    <class 'str'>   \n",
       "1    <class 'str'>    <class 'str'>   \n",
       "2    <class 'str'>    <class 'str'>   \n",
       "3    <class 'str'>  <class 'float'>   \n",
       "4    <class 'str'>    <class 'str'>   \n",
       "..             ...              ...   \n",
       "995  <class 'str'>    <class 'str'>   \n",
       "996  <class 'str'>    <class 'str'>   \n",
       "997  <class 'str'>  <class 'float'>   \n",
       "998  <class 'str'>    <class 'str'>   \n",
       "999  <class 'str'>    <class 'str'>   \n",
       "\n",
       "                                              datetime      monthyear  \\\n",
       "0    <class 'pandas._libs.tslibs.timestamps.Timesta...  <class 'str'>   \n",
       "1    <class 'pandas._libs.tslibs.timestamps.Timesta...  <class 'str'>   \n",
       "2    <class 'pandas._libs.tslibs.timestamps.Timesta...  <class 'str'>   \n",
       "3    <class 'pandas._libs.tslibs.timestamps.Timesta...  <class 'str'>   \n",
       "4    <class 'pandas._libs.tslibs.timestamps.Timesta...  <class 'str'>   \n",
       "..                                                 ...            ...   \n",
       "995  <class 'pandas._libs.tslibs.timestamps.Timesta...  <class 'str'>   \n",
       "996  <class 'pandas._libs.tslibs.timestamps.Timesta...  <class 'str'>   \n",
       "997  <class 'pandas._libs.tslibs.timestamps.Timesta...  <class 'str'>   \n",
       "998  <class 'pandas._libs.tslibs.timestamps.Timesta...  <class 'str'>   \n",
       "999  <class 'pandas._libs.tslibs.timestamps.Timesta...  <class 'str'>   \n",
       "\n",
       "     date_of_birth   outcome_type    animal_type sex_upon_outcome  \\\n",
       "0    <class 'str'>  <class 'str'>  <class 'str'>    <class 'str'>   \n",
       "1    <class 'str'>  <class 'str'>  <class 'str'>    <class 'str'>   \n",
       "2    <class 'str'>  <class 'str'>  <class 'str'>    <class 'str'>   \n",
       "3    <class 'str'>  <class 'str'>  <class 'str'>    <class 'str'>   \n",
       "4    <class 'str'>  <class 'str'>  <class 'str'>    <class 'str'>   \n",
       "..             ...            ...            ...              ...   \n",
       "995  <class 'str'>  <class 'str'>  <class 'str'>    <class 'str'>   \n",
       "996  <class 'str'>  <class 'str'>  <class 'str'>    <class 'str'>   \n",
       "997  <class 'str'>  <class 'str'>  <class 'str'>    <class 'str'>   \n",
       "998  <class 'str'>  <class 'str'>  <class 'str'>    <class 'str'>   \n",
       "999  <class 'str'>  <class 'str'>  <class 'str'>    <class 'str'>   \n",
       "\n",
       "    age_upon_outcome          breed          color  outcome_subtype  \\\n",
       "0      <class 'str'>  <class 'str'>  <class 'str'>  <class 'float'>   \n",
       "1      <class 'str'>  <class 'str'>  <class 'str'>  <class 'float'>   \n",
       "2      <class 'str'>  <class 'str'>  <class 'str'>  <class 'float'>   \n",
       "3      <class 'str'>  <class 'str'>  <class 'str'>  <class 'float'>   \n",
       "4      <class 'str'>  <class 'str'>  <class 'str'>  <class 'float'>   \n",
       "..               ...            ...            ...              ...   \n",
       "995    <class 'str'>  <class 'str'>  <class 'str'>  <class 'float'>   \n",
       "996    <class 'str'>  <class 'str'>  <class 'str'>    <class 'str'>   \n",
       "997    <class 'str'>  <class 'str'>  <class 'str'>    <class 'str'>   \n",
       "998    <class 'str'>  <class 'str'>  <class 'str'>  <class 'float'>   \n",
       "999    <class 'str'>  <class 'str'>  <class 'str'>  <class 'float'>   \n",
       "\n",
       "          new_age1       new_sex1  \n",
       "0    <class 'str'>  <class 'str'>  \n",
       "1    <class 'str'>  <class 'str'>  \n",
       "2    <class 'str'>  <class 'str'>  \n",
       "3    <class 'str'>  <class 'str'>  \n",
       "4    <class 'str'>  <class 'str'>  \n",
       "..             ...            ...  \n",
       "995  <class 'str'>  <class 'str'>  \n",
       "996  <class 'str'>  <class 'str'>  \n",
       "997  <class 'str'>  <class 'str'>  \n",
       "998  <class 'str'>  <class 'str'>  \n",
       "999  <class 'str'>  <class 'str'>  \n",
       "\n",
       "[1000 rows x 14 columns]"
      ]
     },
     "execution_count": 47,
     "metadata": {},
     "output_type": "execute_result"
    }
   ],
   "source": [
    "# This line will apply the base `type()` function to \n",
    "# all entries of the DataFrame.\n",
    "\n",
    "animals.map(type)"
   ]
  },
  {
   "cell_type": "markdown",
   "metadata": {
    "heading_collapsed": true
   },
   "source": [
    "# Level Up: Faster NumPy Methods"
   ]
  },
  {
   "cell_type": "markdown",
   "metadata": {
    "hidden": true
   },
   "source": [
    "In general, `np.where()` and `np.select()` are faster than `map()`. This won't matter too much with reasonably-sized data but can be a consideration for ***big data***."
   ]
  },
  {
   "cell_type": "markdown",
   "metadata": {
    "heading_collapsed": true,
    "hidden": true
   },
   "source": [
    "## NumPy's `where()` Method"
   ]
  },
  {
   "cell_type": "code",
   "execution_count": null,
   "metadata": {
    "hidden": true,
    "scrolled": true
   },
   "outputs": [],
   "source": [
    "animals['new_age2'] = np.where(animals['age_upon_outcome'] == '1 year',\n",
    "                              '1 years', animals['age_upon_outcome'])\n",
    "animals['new_age2']"
   ]
  },
  {
   "cell_type": "code",
   "execution_count": null,
   "metadata": {
    "hidden": true
   },
   "outputs": [],
   "source": [
    "# Check we got the same results with np.where()\n",
    "(animals['new_age1'] != animals['new_age2']).sum()"
   ]
  },
  {
   "cell_type": "code",
   "execution_count": null,
   "metadata": {
    "hidden": true
   },
   "outputs": [],
   "source": [
    "# Let's time how long it takes .map() to run by running it multiple times\n",
    "%timeit animals['new_age1'] = animals['age_upon_outcome'].map(one_year)"
   ]
  },
  {
   "cell_type": "code",
   "execution_count": null,
   "metadata": {
    "hidden": true
   },
   "outputs": [],
   "source": [
    "# Let's time how long it takes np.where() to run by running it multiple times\n",
    "%timeit animals['new_age2'] = np.where(animals['age_upon_outcome'] == '1 year',\\\n",
    "                                       '1 years',animals['age_upon_outcome'])"
   ]
  },
  {
   "cell_type": "markdown",
   "metadata": {
    "heading_collapsed": true,
    "hidden": true
   },
   "source": [
    "## NumPy's `select()` Method"
   ]
  },
  {
   "cell_type": "markdown",
   "metadata": {
    "hidden": true
   },
   "source": [
    "Again, `numpy` will be faster:"
   ]
  },
  {
   "cell_type": "code",
   "execution_count": null,
   "metadata": {
    "hidden": true
   },
   "outputs": [],
   "source": [
    "conditions = [animals['sex_upon_outcome'] == 'Neutered Male',\n",
    "             animals['sex_upon_outcome'] == 'Intact Male',\n",
    "             animals['sex_upon_outcome'] == 'Spayed Female',\n",
    "             animals['sex_upon_outcome'] == 'Intact Female',\n",
    "             animals['sex_upon_outcome'] == 'Unknown',\n",
    "             animals['sex_upon_outcome'] == 'NULL']\n",
    "\n",
    "choices = ['Male', 'Male', 'Female', 'Female', 'Unknown', 'Unknown']"
   ]
  },
  {
   "cell_type": "code",
   "execution_count": null,
   "metadata": {
    "hidden": true
   },
   "outputs": [],
   "source": [
    "animals['new_sex2'] = np.select(conditions, choices)\n",
    "animals['new_sex2']"
   ]
  },
  {
   "cell_type": "code",
   "execution_count": null,
   "metadata": {
    "hidden": true
   },
   "outputs": [],
   "source": [
    "# Check we got the same results with np.where()\n",
    "(animals['new_sex1'] != animals['new_sex2']).sum()"
   ]
  },
  {
   "cell_type": "code",
   "execution_count": null,
   "metadata": {
    "hidden": true
   },
   "outputs": [],
   "source": [
    "# Let's time how long it takes .map() to run by running it multiple times\n",
    "%timeit animals['new_sex1'] = animals['sex_upon_outcome'].map(sex_mapper)"
   ]
  },
  {
   "cell_type": "code",
   "execution_count": null,
   "metadata": {
    "hidden": true
   },
   "outputs": [],
   "source": [
    "# Let's time how long it takes np.select() to run by running it multiple times\n",
    "%timeit animals['new_sex2'] = np.select(conditions, choices)"
   ]
  }
 ],
 "metadata": {
  "kernelspec": {
   "display_name": "Python 3 (ipykernel)",
   "language": "python",
   "name": "python3"
  },
  "language_info": {
   "codemirror_mode": {
    "name": "ipython",
    "version": 3
   },
   "file_extension": ".py",
   "mimetype": "text/x-python",
   "name": "python",
   "nbconvert_exporter": "python",
   "pygments_lexer": "ipython3",
   "version": "3.12.7"
  },
  "toc": {
   "base_numbering": 1,
   "nav_menu": {},
   "number_sections": true,
   "sideBar": true,
   "skip_h1_title": false,
   "title_cell": "Table of Contents",
   "title_sidebar": "TOC",
   "toc_cell": true,
   "toc_position": {
    "height": "calc(100% - 180px)",
    "left": "10px",
    "top": "150px",
    "width": "267px"
   },
   "toc_section_display": true,
   "toc_window_display": true
  }
 },
 "nbformat": 4,
 "nbformat_minor": 4
}
